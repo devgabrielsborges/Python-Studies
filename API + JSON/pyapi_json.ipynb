{
 "cells": [
  {
   "cell_type": "code",
   "execution_count": 1,
   "metadata": {},
   "outputs": [],
   "source": [
    "import requests   # biblioteca para fazer requisições \n",
    "import json   # biblioteca para tratar json"
   ]
  },
  {
   "cell_type": "code",
   "execution_count": 2,
   "metadata": {},
   "outputs": [
    {
     "name": "stdout",
     "output_type": "stream",
     "text": [
      "<Response [200]>\n"
     ]
    }
   ],
   "source": [
    "# exemplo de requisição GET\n",
    "cotacoes = requests.get(' https://economia.awesomeapi.com.br/USD-BRL/2')\n",
    "print(cotacoes)   # retorna código 200 se OK"
   ]
  },
  {
   "cell_type": "code",
   "execution_count": 4,
   "metadata": {},
   "outputs": [
    {
     "name": "stdout",
     "output_type": "stream",
     "text": [
      "[{'code': 'USD', 'codein': 'BRL', 'name': 'Dólar Americano/Real Brasileiro', 'high': '5.4369', 'low': '5.4009', 'varBid': '-0.0291', 'pctChange': '-0.54', 'bid': '5.4005', 'ask': '5.4017', 'timestamp': '1719234889', 'create_date': '2024-06-24 10:14:49'}, {'high': '5.4369', 'low': '5.4026', 'varBid': '-0.0276', 'pctChange': '-0.51', 'bid': '5.4021', 'ask': '5.4032', 'timestamp': '1719234828'}]\n",
      "<class 'list'>\n"
     ]
    }
   ],
   "source": [
    "cotacoes = requests.get(' https://economia.awesomeapi.com.br/USD-BRL/2', timeout=20)\n",
    "cotacoes_dic = cotacoes.json()   # transforma em list de dict's\n",
    "\n",
    "print(cotacoes_dic)\n",
    "print(type(cotacoes_dic))"
   ]
  },
  {
   "cell_type": "markdown",
   "metadata": {},
   "source": [
    "### Pegando cotações"
   ]
  },
  {
   "cell_type": "code",
   "execution_count": 5,
   "metadata": {},
   "outputs": [
    {
     "name": "stdout",
     "output_type": "stream",
     "text": [
      "Preço atual de compra do dólar comercial R$5.4021\n"
     ]
    }
   ],
   "source": [
    "# pegando cotação atual do dólar\n",
    "\n",
    "cotacao = requests.get(' https://economia.awesomeapi.com.br/USD-BRL/2')\n",
    "cotacao_dic = cotacao.json()\n",
    "\n",
    "print(f'Preço atual de compra do dólar comercial R${cotacao_dic[1]['bid']}')"
   ]
  },
  {
   "cell_type": "code",
   "execution_count": 6,
   "metadata": {},
   "outputs": [
    {
     "name": "stdout",
     "output_type": "stream",
     "text": [
      "[{'code': 'USD', 'codein': 'BRL', 'name': 'Dólar Americano/Real Brasileiro', 'high': '4.5141', 'low': '4.4645', 'varBid': '-0.0126', 'pctChange': '-0.28', 'bid': '4.4733', 'ask': '4.4738', 'timestamp': '1582925397', 'create_date': '2020-02-28 18:29:57'}, {'high': '4.5141', 'low': '4.4645', 'varBid': '-0.0081', 'pctChange': '-0.18', 'bid': '4.4778', 'ask': '4.4783', 'timestamp': '1582925264'}, {'high': '4.5141', 'low': '4.4645', 'varBid': '-0.0071', 'pctChange': '-0.16', 'bid': '4.4787', 'ask': '4.4793', 'timestamp': '1582925085'}, {'high': '4.5141', 'low': '4.4645', 'varBid': '-0.0076', 'pctChange': '-0.17', 'bid': '4.4783', 'ask': '4.4788', 'timestamp': '1582924904'}, {'high': '4.5141', 'low': '4.4645', 'varBid': '-0.0076', 'pctChange': '-0.17', 'bid': '4.4782', 'ask': '4.4787', 'timestamp': '1582924724'}, {'high': '4.5141', 'low': '4.4645', 'varBid': '-0.0116', 'pctChange': '-0.26', 'bid': '4.4742', 'ask': '4.4748', 'timestamp': '1582924545'}, {'high': '4.5141', 'low': '4.4645', 'varBid': '-0.0106', 'pctChange': '-0.24', 'bid': '4.4753', 'ask': '4.4758', 'timestamp': '1582924364'}, {'high': '4.5141', 'low': '4.4645', 'varBid': '-0.0086', 'pctChange': '-0.19', 'bid': '4.4772', 'ask': '4.4778', 'timestamp': '1582924185'}, {'high': '4.5141', 'low': '4.4645', 'varBid': '-0.0151', 'pctChange': '-0.34', 'bid': '4.4707', 'ask': '4.4713', 'timestamp': '1582924001'}, {'high': '4.5141', 'low': '4.4645', 'varBid': '-0.0151', 'pctChange': '-0.34', 'bid': '4.4707', 'ask': '4.4713', 'timestamp': '1582923822'}]\n"
     ]
    }
   ],
   "source": [
    "cot_sequenciais = requests.get('https://economia.awesomeapi.com.br/USD-BRL/10?start_date=20200201&end_date=20200229')\n",
    "cot_sequenciais_dic = cot_sequenciais.json()\n",
    "\n",
    "print(cot_sequenciais_dic)"
   ]
  },
  {
   "cell_type": "code",
   "execution_count": 7,
   "metadata": {},
   "outputs": [
    {
     "name": "stdout",
     "output_type": "stream",
     "text": [
      "[4.4733, 4.4778, 4.4787, 4.4783, 4.4782, 4.4742, 4.4753, 4.4772, 4.4707, 4.4707]\n"
     ]
    }
   ],
   "source": [
    "lista_cotacoes = [float(item['bid']) for item in cot_sequenciais_dic]   # obtendo uma lista com todos os valores do dólar num intervalo de tempo\n",
    "print(lista_cotacoes)"
   ]
  },
  {
   "cell_type": "code",
   "execution_count": 8,
   "metadata": {},
   "outputs": [],
   "source": [
    "# pegando o fechamento de um período determinado de dias\n",
    "\n",
    "cotacoes_periodo = requests.get('https://economia.awesomeapi.com.br/json/daily/USD-BRL/30')   # pegando o fechamento do dólar nos last 30 days\n",
    "list_cotacoes_periodo = cotacoes_periodo.json()\n",
    "\n",
    "lista_cotacoes_compra = [float(item['bid']) for item in list_cotacoes_periodo]    # lista com 30 itens"
   ]
  },
  {
   "cell_type": "markdown",
   "metadata": {},
   "source": [
    "### API com login"
   ]
  },
  {
   "cell_type": "markdown",
   "metadata": {},
   "source": [
    "#### Twilio - envio de SMS"
   ]
  },
  {
   "cell_type": "code",
   "execution_count": null,
   "metadata": {},
   "outputs": [],
   "source": [
    "from twilio.rest import Client\n",
    "\n",
    "# credenciais\n",
    "account_sid = \"YOUR ACCOUNT SID\"\n",
    "auth_token = \"YOUR AUTH TOKEN\"\n",
    "\n",
    "# client = Client(account_sid, auth_token)\n",
    "\n",
    "remetente = 'YOUR TWILIO NUMBER'\n",
    "destino = 'DESTINY NUMBER'"
   ]
  },
  {
   "cell_type": "code",
   "execution_count": null,
   "metadata": {},
   "outputs": [],
   "source": [
    "message = client.messages.create(\n",
    "    to=destino,\n",
    "    from_=remetente,\n",
    "    body=\"Hello World\")\n",
    "print(message.sid)"
   ]
  },
  {
   "cell_type": "markdown",
   "metadata": {},
   "source": [
    "### API ViaCEP"
   ]
  },
  {
   "cell_type": "code",
   "execution_count": 10,
   "metadata": {},
   "outputs": [],
   "source": [
    "import requests\n",
    "\n",
    "class ViaCEP:\n",
    "\n",
    "    def __init__(self, cep=None , endereco=None):\n",
    "        self.cep = cep\n",
    "        self.endereco = endereco\n",
    "\n",
    "    @staticmethod\n",
    "    def _cep_json(method):\n",
    "        def wrapper(self):\n",
    "            endpoint = method(self)\n",
    "            cep_dict = requests.get(endpoint).json()\n",
    "            return cep_dict\n",
    "        return wrapper\n",
    "\n",
    "    @_cep_json\n",
    "    def cep_info(self):\n",
    "        return f'https://viacep.com.br/ws/{self.cep}/json/'\n",
    "    \n",
    "    @_cep_json\n",
    "    def endereco_info(self):\n",
    "        return f'https://viacep.com.br/ws/{self.endereco[0]}/{self.endereco[1]}/{self.endereco[2]}/json/'"
   ]
  },
  {
   "cell_type": "code",
   "execution_count": 11,
   "metadata": {},
   "outputs": [
    {
     "name": "stdout",
     "output_type": "stream",
     "text": [
      "{'cep': '57603-085', 'logradouro': 'Rua Antônio Francisco', 'complemento': '', 'unidade': '', 'bairro': 'Juca Sampaio', 'localidade': 'Palmeira dos Índios', 'uf': 'AL', 'ibge': '2706307', 'gia': '', 'ddd': '82', 'siafi': '2825'}\n"
     ]
    }
   ],
   "source": [
    "cep = ViaCEP(cep=57603085)\n",
    "print(cep.cep_info())"
   ]
  },
  {
   "cell_type": "code",
   "execution_count": 12,
   "metadata": {},
   "outputs": [
    {
     "name": "stdout",
     "output_type": "stream",
     "text": [
      "[{'cep': '20251-620', 'logradouro': 'Rua Lírio Branco', 'complemento': '', 'unidade': '', 'bairro': 'Rio Comprido', 'localidade': 'Rio de Janeiro', 'uf': 'RJ', 'ibge': '3304557', 'gia': '', 'ddd': '21', 'siafi': '6001'}, {'cep': '20090-001', 'logradouro': 'Avenida Rio Branco', 'complemento': 'de 22 a 30 - lado par', 'unidade': '', 'bairro': 'Centro', 'localidade': 'Rio de Janeiro', 'uf': 'RJ', 'ibge': '3304557', 'gia': '', 'ddd': '21', 'siafi': '6001'}, {'cep': '20040-913', 'logradouro': 'Avenida Rio Branco', 'complemento': '91', 'unidade': 'Edifício São Francisco', 'bairro': 'Centro', 'localidade': 'Rio de Janeiro', 'uf': 'RJ', 'ibge': '3304557', 'gia': '', 'ddd': '21', 'siafi': '6001'}, {'cep': '20040-001', 'logradouro': 'Avenida Rio Branco', 'complemento': 'de 102 a 126 - lado par', 'unidade': '', 'bairro': 'Centro', 'localidade': 'Rio de Janeiro', 'uf': 'RJ', 'ibge': '3304557', 'gia': '', 'ddd': '21', 'siafi': '6001'}, {'cep': '20040-909', 'logradouro': 'Avenida Rio Branco', 'complemento': '138', 'unidade': 'Edifício Bozano Simonsen', 'bairro': 'Centro', 'localidade': 'Rio de Janeiro', 'uf': 'RJ', 'ibge': '3304557', 'gia': '', 'ddd': '21', 'siafi': '6001'}, {'cep': '20040-922', 'logradouro': 'Avenida Rio Branco', 'complemento': '70', 'unidade': 'Edifício Banco Real', 'bairro': 'Centro', 'localidade': 'Rio de Janeiro', 'uf': 'RJ', 'ibge': '3304557', 'gia': '', 'ddd': '21', 'siafi': '6001'}, {'cep': '20090-000', 'logradouro': 'Avenida Rio Branco', 'complemento': 'até 20 - lado par', 'unidade': '', 'bairro': 'Centro', 'localidade': 'Rio de Janeiro', 'uf': 'RJ', 'ibge': '3304557', 'gia': '', 'ddd': '21', 'siafi': '6001'}, {'cep': '20040-907', 'logradouro': 'Avenida Rio Branco', 'complemento': '118', 'unidade': 'Edifício Pedro de Magalhães Correia', 'bairro': 'Centro', 'localidade': 'Rio de Janeiro', 'uf': 'RJ', 'ibge': '3304557', 'gia': '', 'ddd': '21', 'siafi': '6001'}, {'cep': '20040-920', 'logradouro': 'Avenida Rio Branco', 'complemento': '219', 'unidade': 'Edifício Biblioteca Nacional', 'bairro': 'Centro', 'localidade': 'Rio de Janeiro', 'uf': 'RJ', 'ibge': '3304557', 'gia': '', 'ddd': '21', 'siafi': '6001'}, {'cep': '20090-907', 'logradouro': 'Avenida Rio Branco', 'complemento': '1', 'unidade': 'Centro Empresarial Internacional Rio', 'bairro': 'Centro', 'localidade': 'Rio de Janeiro', 'uf': 'RJ', 'ibge': '3304557', 'gia': '', 'ddd': '21', 'siafi': '6001'}, {'cep': '20040-070', 'logradouro': 'Avenida Rio Branco', 'complemento': 'de 64 a 100 - lado par', 'unidade': '', 'bairro': 'Centro', 'localidade': 'Rio de Janeiro', 'uf': 'RJ', 'ibge': '3304557', 'gia': '', 'ddd': '21', 'siafi': '6001'}, {'cep': '20090-904', 'logradouro': 'Avenida Rio Branco', 'complemento': '35', 'unidade': 'Edifício Almare', 'bairro': 'Centro', 'localidade': 'Rio de Janeiro', 'uf': 'RJ', 'ibge': '3304557', 'gia': '', 'ddd': '21', 'siafi': '6001'}, {'cep': '20040-908', 'logradouro': 'Avenida Rio Branco', 'complemento': '103', 'unidade': 'Edifício Índico', 'bairro': 'Centro', 'localidade': 'Rio de Janeiro', 'uf': 'RJ', 'ibge': '3304557', 'gia': '', 'ddd': '21', 'siafi': '6001'}, {'cep': '20040-918', 'logradouro': 'Avenida Rio Branco', 'complemento': '181', 'unidade': 'Edifício Século Frontim', 'bairro': 'Centro', 'localidade': 'Rio de Janeiro', 'uf': 'RJ', 'ibge': '3304557', 'gia': '', 'ddd': '21', 'siafi': '6001'}, {'cep': '20040-009', 'logradouro': 'Avenida Rio Branco', 'complemento': 'de 221 ao fim - lado ímpar', 'unidade': '', 'bairro': 'Centro', 'localidade': 'Rio de Janeiro', 'uf': 'RJ', 'ibge': '3304557', 'gia': '', 'ddd': '21', 'siafi': '6001'}, {'cep': '20040-902', 'logradouro': 'Avenida Rio Branco', 'complemento': '185', 'unidade': 'Edifício Marques do Herval', 'bairro': 'Centro', 'localidade': 'Rio de Janeiro', 'uf': 'RJ', 'ibge': '3304557', 'gia': '', 'ddd': '21', 'siafi': '6001'}, {'cep': '20040-900', 'logradouro': 'Avenida Rio Branco', 'complemento': '128', 'unidade': 'Edifício Generali', 'bairro': 'Centro', 'localidade': 'Rio de Janeiro', 'uf': 'RJ', 'ibge': '3304557', 'gia': '', 'ddd': '21', 'siafi': '6001'}, {'cep': '20090-902', 'logradouro': 'Avenida Rio Branco', 'complemento': '25', 'unidade': 'Edifício Avenida', 'bairro': 'Centro', 'localidade': 'Rio de Janeiro', 'uf': 'RJ', 'ibge': '3304557', 'gia': '', 'ddd': '21', 'siafi': '6001'}, {'cep': '20040-008', 'logradouro': 'Avenida Rio Branco', 'complemento': 'de 187 a 219 - lado ímpar', 'unidade': '', 'bairro': 'Centro', 'localidade': 'Rio de Janeiro', 'uf': 'RJ', 'ibge': '3304557', 'gia': '', 'ddd': '21', 'siafi': '6001'}, {'cep': '20040-923', 'logradouro': 'Avenida Rio Branco', 'complemento': '85', 'unidade': 'Edifício City', 'bairro': 'Centro', 'localidade': 'Rio de Janeiro', 'uf': 'RJ', 'ibge': '3304557', 'gia': '', 'ddd': '21', 'siafi': '6001'}, {'cep': '20040-906', 'logradouro': 'Avenida Rio Branco', 'complemento': '109', 'unidade': 'Edifício Visconde do Rio Claro', 'bairro': 'Centro', 'localidade': 'Rio de Janeiro', 'uf': 'RJ', 'ibge': '3304557', 'gia': '', 'ddd': '21', 'siafi': '6001'}, {'cep': '20040-917', 'logradouro': 'Avenida Rio Branco', 'complemento': '245', 'unidade': 'Edifício Bokel', 'bairro': 'Centro', 'localidade': 'Rio de Janeiro', 'uf': 'RJ', 'ibge': '3304557', 'gia': '', 'ddd': '21', 'siafi': '6001'}, {'cep': '20040-007', 'logradouro': 'Avenida Rio Branco', 'complemento': 'de 163 a 185 - lado ímpar', 'unidade': '', 'bairro': 'Centro', 'localidade': 'Rio de Janeiro', 'uf': 'RJ', 'ibge': '3304557', 'gia': '', 'ddd': '21', 'siafi': '6001'}, {'cep': '20040-919', 'logradouro': 'Avenida Rio Branco', 'complemento': '174', 'unidade': 'Edifício Caixa Econômica Federal', 'bairro': 'Centro', 'localidade': 'Rio de Janeiro', 'uf': 'RJ', 'ibge': '3304557', 'gia': '', 'ddd': '21', 'siafi': '6001'}, {'cep': '20040-903', 'logradouro': 'Avenida Rio Branco', 'complemento': '311', 'unidade': 'Edifício Brasília', 'bairro': 'Centro', 'localidade': 'Rio de Janeiro', 'uf': 'RJ', 'ibge': '3304557', 'gia': '', 'ddd': '21', 'siafi': '6001'}, {'cep': '20090-908', 'logradouro': 'Avenida Rio Branco', 'complemento': '45', 'unidade': 'Edifício Comercial Avenida Rio Branco', 'bairro': 'Centro', 'localidade': 'Rio de Janeiro', 'uf': 'RJ', 'ibge': '3304557', 'gia': '', 'ddd': '21', 'siafi': '6001'}, {'cep': '20040-006', 'logradouro': 'Avenida Rio Branco', 'complemento': 'de 125 a 161 - lado ímpar', 'unidade': '', 'bairro': 'Centro', 'localidade': 'Rio de Janeiro', 'uf': 'RJ', 'ibge': '3304557', 'gia': '', 'ddd': '21', 'siafi': '6001'}, {'cep': '20040-910', 'logradouro': 'Avenida Rio Branco', 'complemento': '147', 'unidade': 'Edifício Gustavo de Matos', 'bairro': 'Centro', 'localidade': 'Rio de Janeiro', 'uf': 'RJ', 'ibge': '3304557', 'gia': '', 'ddd': '21', 'siafi': '6001'}, {'cep': '20040-904', 'logradouro': 'Avenida Rio Branco', 'complemento': '277', 'unidade': 'Edifício São Borja', 'bairro': 'Centro', 'localidade': 'Rio de Janeiro', 'uf': 'RJ', 'ibge': '3304557', 'gia': '', 'ddd': '21', 'siafi': '6001'}, {'cep': '20040-905', 'logradouro': 'Avenida Rio Branco', 'complemento': '123', 'unidade': 'Edifício Comércio e Indústria', 'bairro': 'Centro', 'localidade': 'Rio de Janeiro', 'uf': 'RJ', 'ibge': '3304557', 'gia': '', 'ddd': '21', 'siafi': '6001'}, {'cep': '20040-005', 'logradouro': 'Avenida Rio Branco', 'complemento': 'de 117 a 123 - lado ímpar', 'unidade': '', 'bairro': 'Centro', 'localidade': 'Rio de Janeiro', 'uf': 'RJ', 'ibge': '3304557', 'gia': '', 'ddd': '21', 'siafi': '6001'}, {'cep': '20090-903', 'logradouro': 'Avenida Rio Branco', 'complemento': '4', 'unidade': 'Edifício Internacional', 'bairro': 'Centro', 'localidade': 'Rio de Janeiro', 'uf': 'RJ', 'ibge': '3304557', 'gia': '', 'ddd': '21', 'siafi': '6001'}, {'cep': '20040-912', 'logradouro': 'Avenida Rio Branco', 'complemento': '135', 'unidade': 'Edifício Guinle', 'bairro': 'Centro', 'localidade': 'Rio de Janeiro', 'uf': 'RJ', 'ibge': '3304557', 'gia': '', 'ddd': '21', 'siafi': '6001'}, {'cep': '20090-004', 'logradouro': 'Avenida Rio Branco', 'complemento': 'de 47 a 65 - lado ímpar', 'unidade': '', 'bairro': 'Centro', 'localidade': 'Rio de Janeiro', 'uf': 'RJ', 'ibge': '3304557', 'gia': '', 'ddd': '21', 'siafi': '6001'}, {'cep': '20040-004', 'logradouro': 'Avenida Rio Branco', 'complemento': 'de 67 a 115 - lado ímpar', 'unidade': '', 'bairro': 'Centro', 'localidade': 'Rio de Janeiro', 'uf': 'RJ', 'ibge': '3304557', 'gia': '', 'ddd': '21', 'siafi': '6001'}, {'cep': '20040-916', 'logradouro': 'Avenida Rio Branco', 'complemento': '124', 'unidade': 'Edifício Edison Passos', 'bairro': 'Centro', 'localidade': 'Rio de Janeiro', 'uf': 'RJ', 'ibge': '3304557', 'gia': '', 'ddd': '21', 'siafi': '6001'}, {'cep': '20040-921', 'logradouro': 'Avenida Rio Branco', 'complemento': '134', 'unidade': 'Edifício Banco Nação Argentina', 'bairro': 'Centro', 'localidade': 'Rio de Janeiro', 'uf': 'RJ', 'ibge': '3304557', 'gia': '', 'ddd': '21', 'siafi': '6001'}, {'cep': '20090-003', 'logradouro': 'Avenida Rio Branco', 'complemento': 'até 45 - lado ímpar', 'unidade': '', 'bairro': 'Centro', 'localidade': 'Rio de Janeiro', 'uf': 'RJ', 'ibge': '3304557', 'gia': '', 'ddd': '21', 'siafi': '6001'}, {'cep': '20040-003', 'logradouro': 'Avenida Rio Branco', 'complemento': 'de 146 ao fim - lado par', 'unidade': '', 'bairro': 'Centro', 'localidade': 'Rio de Janeiro', 'uf': 'RJ', 'ibge': '3304557', 'gia': '', 'ddd': '21', 'siafi': '6001'}, {'cep': '20040-914', 'logradouro': 'Avenida Rio Branco', 'complemento': '81', 'unidade': 'Edifício Mercantil de São Paulo', 'bairro': 'Centro', 'localidade': 'Rio de Janeiro', 'uf': 'RJ', 'ibge': '3304557', 'gia': '', 'ddd': '21', 'siafi': '6001'}, {'cep': '20090-901', 'logradouro': 'Avenida Rio Branco', 'complemento': '57', 'unidade': 'Edifício Alfredo Simões', 'bairro': 'Centro', 'localidade': 'Rio de Janeiro', 'uf': 'RJ', 'ibge': '3304557', 'gia': '', 'ddd': '21', 'siafi': '6001'}, {'cep': '20090-002', 'logradouro': 'Avenida Rio Branco', 'complemento': 'de 32 a 62 - lado par', 'unidade': '', 'bairro': 'Centro', 'localidade': 'Rio de Janeiro', 'uf': 'RJ', 'ibge': '3304557', 'gia': '', 'ddd': '21', 'siafi': '6001'}, {'cep': '20040-002', 'logradouro': 'Avenida Rio Branco', 'complemento': 'de 128 a 144 - lado par', 'unidade': '', 'bairro': 'Centro', 'localidade': 'Rio de Janeiro', 'uf': 'RJ', 'ibge': '3304557', 'gia': '', 'ddd': '21', 'siafi': '6001'}, {'cep': '20040-911', 'logradouro': 'Avenida Rio Branco', 'complemento': '151', 'unidade': 'Edifício Iracema', 'bairro': 'Centro', 'localidade': 'Rio de Janeiro', 'uf': 'RJ', 'ibge': '3304557', 'gia': '', 'ddd': '21', 'siafi': '6001'}, {'cep': '20040-901', 'logradouro': 'Avenida Rio Branco', 'complemento': '156', 'unidade': 'Edifício Avenida Central', 'bairro': 'Centro', 'localidade': 'Rio de Janeiro', 'uf': 'RJ', 'ibge': '3304557', 'gia': '', 'ddd': '21', 'siafi': '6001'}, {'cep': '21011-710', 'logradouro': 'Rua Barão do Rio Branco', 'complemento': '', 'unidade': '', 'bairro': 'Penha', 'localidade': 'Rio de Janeiro', 'uf': 'RJ', 'ibge': '3304557', 'gia': '', 'ddd': '21', 'siafi': '6001'}, {'cep': '20060-080', 'logradouro': 'Rua Visconde de Rio Branco', 'complemento': '', 'unidade': '', 'bairro': 'Centro', 'localidade': 'Rio de Janeiro', 'uf': 'RJ', 'ibge': '3304557', 'gia': '', 'ddd': '21', 'siafi': '6001'}]\n"
     ]
    }
   ],
   "source": [
    "# consulta a partir de UF + cidade + logradouro\n",
    "\n",
    "location = ViaCEP(endereco=['RJ', 'Rio de Janeiro', 'Rio Branco'])\n",
    "location_dict = location.endereco_info()\n",
    "print(location_dict)"
   ]
  }
 ],
 "metadata": {
  "kernelspec": {
   "display_name": "Python 3",
   "language": "python",
   "name": "python3"
  },
  "language_info": {
   "codemirror_mode": {
    "name": "ipython",
    "version": 3
   },
   "file_extension": ".py",
   "mimetype": "text/x-python",
   "name": "python",
   "nbconvert_exporter": "python",
   "pygments_lexer": "ipython3",
   "version": "3.12.2"
  }
 },
 "nbformat": 4,
 "nbformat_minor": 2
}
