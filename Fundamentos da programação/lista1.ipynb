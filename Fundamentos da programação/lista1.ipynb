{
 "cells": [
  {
   "cell_type": "code",
   "execution_count": 1,
   "metadata": {},
   "outputs": [
    {
     "name": "stdout",
     "output_type": "stream",
     "text": [
      "A capacidade da caixa d'água é de 785398163.40 mL\n"
     ]
    }
   ],
   "source": [
    "from math import pi\n",
    "\n",
    "\n",
    "def get_volume(diameter: float, height: float) -> str:\n",
    "    capacity = pi * (diameter / 2)**2 * height\n",
    "    return f\"A capacidade da caixa d'água é de {(capacity * 10**6):.2f} mL\"\n",
    "\n",
    "\n",
    "print(get_volume(\n",
    "    float(input('Informe o diâmetro: ')),\n",
    "    float(input('Informe a altura: '))\n",
    "))\n"
   ]
  },
  {
   "cell_type": "code",
   "execution_count": 3,
   "metadata": {},
   "outputs": [
    {
     "name": "stdout",
     "output_type": "stream",
     "text": [
      "O volume de combustível gasto foi de 10.0 litros\n"
     ]
    }
   ],
   "source": [
    "def combustivel_gasto(v_media, tempo, consumo_medio):\n",
    "    volume_gasto = v_media * tempo / consumo_medio\n",
    "    \n",
    "    return f'O volume de combustível gasto foi de {volume_gasto} litros'\n",
    "\n",
    "\n",
    "print(combustivel_gasto(\n",
    "    int(input('Informe a velocidade média (Km/h): ')),\n",
    "    int(input('Informe o tempo da viagem em horas: ')),\n",
    "    int(input('Informe o consumo médio do carro em (Km/L): '))\n",
    "))"
   ]
  },
  {
   "cell_type": "code",
   "execution_count": 4,
   "metadata": {},
   "outputs": [
    {
     "name": "stdout",
     "output_type": "stream",
     "text": [
      "Preço real do produto: R$1000.00\n",
      "Preço final: R$900.00\n",
      "Valor do desconto = R$100.00\n"
     ]
    }
   ],
   "source": [
    "def get_desconto(preco, percentual_desconto):\n",
    "    preco_real = preco\n",
    "    preco_final = preco_real * (1 - percentual_desconto / 100)\n",
    "    valor_desconto = preco_real * percentual_desconto / 100\n",
    "\n",
    "    return (\n",
    "        f\"Preço real do produto: R${preco_real:.2f}\\n\"\n",
    "        f\"Preço final: R${preco_final:.2f}\\n\"\n",
    "        f\"Valor do desconto = R${valor_desconto:.2f}\"\n",
    "    )\n",
    "\n",
    "\n",
    "print(get_desconto(\n",
    "    float(input('Digite o preço do produto: ')),\n",
    "    int(input('Digite o percentual do desconto (apenas número): ')),\n",
    "))"
   ]
  },
  {
   "cell_type": "code",
   "execution_count": 4,
   "metadata": {},
   "outputs": [
    {
     "name": "stdout",
     "output_type": "stream",
     "text": [
      "O valor da multa por 10 dias é R$ 150.00.\n",
      "O valor dos juros a ser pago por 10 dias de atraso é R$ 500.00\n",
      "O valor total da conta a ser pago com multa e juros é R$ 1650.00\n"
     ]
    }
   ],
   "source": [
    "def calcular_conta(fatura, dias_atraso, multa_dia, juros_dia):\n",
    "    total_multa = dias_atraso * multa_dia\n",
    "    total_juros = juros_dia / 100 * fatura * dias_atraso\n",
    "    total_conta = fatura + total_juros + total_multa\n",
    "    \n",
    "    return (\n",
    "        f'O valor da multa por {dias_atraso} dias é R$ {total_multa:.2f}.\\n'\n",
    "        f'O valor dos juros a ser pago por {dias_atraso} dias de atraso é R$ {total_juros:.2f}\\n'\n",
    "        f'O valor total da conta a ser pago com multa e juros é R$ {total_conta:.2f}'\n",
    "    )\n",
    "\n",
    "\n",
    "print(calcular_conta(\n",
    "    float(input('Informe o valor da fatura: ')),\n",
    "    int(input('Informe a quantidade de dias de atraso: ')),\n",
    "    float(input('Informe a multa diária: ')),\n",
    "    float(input('Informe o percentual de juros diários (apenas número): '))\n",
    "))"
   ]
  },
  {
   "cell_type": "code",
   "execution_count": 6,
   "metadata": {},
   "outputs": [
    {
     "name": "stdout",
     "output_type": "stream",
     "text": [
      "O salário a receber será de 1890.0\n"
     ]
    }
   ],
   "source": [
    "def calcular_salario(salario_minimo, horas_trabalhadas, n_dependentes, horas_extras):\n",
    "    salario_mes = horas_trabalhadas * salario_minimo / 10\n",
    "    sal_fam = salario_minimo * 0.05 * n_dependentes\n",
    "    valor_horas_extras = salario_minimo * 1.5 / 10 * horas_extras\n",
    "    salario_receber = (salario_mes + sal_fam + valor_horas_extras) * 0.9\n",
    "\n",
    "    return f'O salário a receber será de {salario_receber}'\n",
    "\n",
    "\n",
    "print(calcular_salario(\n",
    "    float(input('Informe o valor do salário mínimo: ')),\n",
    "    int(input('Informe o número de horas trabalhadas por dia: ')),\n",
    "    int(input('Informe o número de dependentes: ')),\n",
    "    int(input('Informe a quantidade de horas extras: '))\n",
    "))"
   ]
  },
  {
   "cell_type": "code",
   "execution_count": null,
   "metadata": {},
   "outputs": [],
   "source": []
  }
 ],
 "metadata": {
  "kernelspec": {
   "display_name": "Python 3",
   "language": "python",
   "name": "python3"
  },
  "language_info": {
   "codemirror_mode": {
    "name": "ipython",
    "version": 3
   },
   "file_extension": ".py",
   "mimetype": "text/x-python",
   "name": "python",
   "nbconvert_exporter": "python",
   "pygments_lexer": "ipython3",
   "version": "3.10.13"
  }
 },
 "nbformat": 4,
 "nbformat_minor": 2
}
