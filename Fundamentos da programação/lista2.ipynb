{
 "cells": [
  {
   "cell_type": "code",
   "execution_count": 12,
   "metadata": {},
   "outputs": [
    {
     "name": "stdout",
     "output_type": "stream",
     "text": [
      "Altura do tanque: 10 metros\n",
      "Diâmetro do tanque: 10 metros\n",
      "Quantidade de tanques: 10 tanques\n",
      "Quantidade de latas necessárias: 315 latas\n",
      "Custo total: R$14175,00\n"
     ]
    }
   ],
   "source": []
  },
  {
   "cell_type": "code",
   "execution_count": 11,
   "metadata": {},
   "outputs": [
    {
     "name": "stdout",
     "output_type": "stream",
     "text": [
      "Real -> 1000,00 reais\n",
      "Dólar -> 181,82 dólares\n",
      "Libra -> 172,41 libras\n",
      "Euro -> 178,57 euros\n"
     ]
    }
   ],
   "source": [
    "def conversor_moedas(montante, cotacao_dolar, cotacao_libra, cotacao_euro):\n",
    "    montantes = {\n",
    "        'real': f\"{montante:.2f}\".replace('.', ','),\n",
    "        'dolar': f\"{(montante / cotacao_dolar):.2f}\".replace('.', ','),\n",
    "        'libra': f\"{(montante / cotacao_libra):.2f}\".replace('.', ','),\n",
    "        'euro': f\"{(montante / cotacao_euro):.2f}\".replace('.', ',')\n",
    "    }\n",
    "    return (\n",
    "        f\"Real -> {montantes['real']} reais\\n\"\n",
    "        f\"Dólar -> {montantes['dolar']} dólares\\n\"\n",
    "        f\"Libra -> {montantes['libra']} libras\\n\"\n",
    "        f\"Euro -> {montantes['euro']} euros\"\n",
    "    )\n",
    "\n",
    "print(conversor_moedas(\n",
    "    float(input('Informe o montante em reais: ')),\n",
    "    float(input('Informe a cotação atual do dólar: ')),\n",
    "    float(input('Informe a cotação atual da libra: ')),\n",
    "    float(input('Informe a cotação atual do euro: ')),\n",
    "))"
   ]
  },
  {
   "cell_type": "code",
   "execution_count": 9,
   "metadata": {},
   "outputs": [
    {
     "data": {
      "text/plain": [
       "'Velocidade média do percurso (em m/s): 1.34 metros por segundo'"
      ]
     },
     "execution_count": 9,
     "metadata": {},
     "output_type": "execute_result"
    }
   ],
   "source": [
    "# d -> km\n",
    "# hh:mm:ss\n",
    "# v - m/s\n",
    "\n",
    "def get_pace(distancia: float, tempo: list[int, int, int]) -> str:\n",
    "    tempo_segundos = tempo[0] * 3600 + tempo[1] * 60 + tempo[2]\n",
    "    velocidade_media = distancia * 1000 / tempo_segundos\n",
    "\n",
    "    return f\"Velocidade média do percurso (em m/s): {velocidade_media:.2f} metros por segundo\"\n",
    "\n",
    "get_pace(\n",
    "    float(input('Informe a distância percorrida em km: ')),\n",
    "    [\n",
    "        int(input('Informe o número de horas: ')),\n",
    "        int(input('Informe o número de minutos: ')),\n",
    "        int(input('Informe o número de segundos: '))\n",
    "    ]\n",
    ")\n"
   ]
  },
  {
   "cell_type": "code",
   "execution_count": 10,
   "metadata": {},
   "outputs": [
    {
     "name": "stdout",
     "output_type": "stream",
     "text": [
      "A partir do ponto inicial [5, 10] e da largura 9 e da altura 8:\n",
      " Os pontos são [[5, 10], [14, 10], [5, 2], [14, 2]]\n"
     ]
    }
   ],
   "source": [
    "def obter_vértices(x1, y1, width, height):\n",
    "    points = [[x1, y1], [x1 + width, y1], [x1, y1 - height], [x1 + width, y1 - height]]\n",
    "    return f'A partir do ponto inicial {[x1, y1]} e da largura {width} e da altura {height}:\\n Os pontos são {points}'\n",
    "\n",
    "\n",
    "x1 = int(input('Digite o x1: '))\n",
    "y1 = int(input('Digite o y1: '))\n",
    "largura = int(input('Digite o valor da largura: '))\n",
    "altura = int(input('Digite o valor da altura'))\n",
    "\n",
    "print(obter_vértices(x1, y1, largura, altura))"
   ]
  },
  {
   "cell_type": "code",
   "execution_count": null,
   "metadata": {},
   "outputs": [],
   "source": []
  }
 ],
 "metadata": {
  "kernelspec": {
   "display_name": "Python 3",
   "language": "python",
   "name": "python3"
  },
  "language_info": {
   "codemirror_mode": {
    "name": "ipython",
    "version": 3
   },
   "file_extension": ".py",
   "mimetype": "text/x-python",
   "name": "python",
   "nbconvert_exporter": "python",
   "pygments_lexer": "ipython3",
   "version": "3.10.13"
  }
 },
 "nbformat": 4,
 "nbformat_minor": 2
}
