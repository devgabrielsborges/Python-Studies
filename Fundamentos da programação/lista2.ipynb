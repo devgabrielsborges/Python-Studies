{
 "cells": [
  {
   "cell_type": "markdown",
   "metadata": {},
   "source": [
    "cada lata pinta 15 metros ^2\n",
    "cada lata custa 45"
   ]
  },
  {
   "cell_type": "code",
   "execution_count": 12,
   "metadata": {},
   "outputs": [
    {
     "name": "stdout",
     "output_type": "stream",
     "text": [
      "A quantidade de latas de tinta necessárias é de: 6 latas\n",
      "O custo total para pintar os tanques é: R$ 270.00\n"
     ]
    }
   ],
   "source": [
    "from math import pi\n",
    "\n",
    "\n",
    "def get_latas(altura: float, diametro: float, quantidade_tanques: int) -> str:\n",
    "    area_externa = pi * diametro * (diametro / 2 + altura)\n",
    "    qtd_latas = area_externa * quantidade_tanques / 15\n",
    "\n",
    "    if qtd_latas > int(qtd_latas):\n",
    "        qtd_latas = int(qtd_latas) + 1\n",
    "    custo_total = qtd_latas * 45\n",
    "\n",
    "    return (\n",
    "        f'A quantidade de latas de tinta necessárias é de: {qtd_latas} latas\\n'\n",
    "        f'O custo total para pintar os tanques é: R$ {custo_total:.2f}'\n",
    "    )\n",
    "\n",
    "# exemplo\n",
    "print(get_latas(11, 2, 1))"
   ]
  },
  {
   "cell_type": "code",
   "execution_count": 1,
   "metadata": {},
   "outputs": [
    {
     "name": "stdout",
     "output_type": "stream",
     "text": [
      "Real -> 1000,00 reais\n",
      "Dólar -> 200,00 dólares\n",
      "Libra -> 166,67 libras\n",
      "Euro -> 181,82 euros\n"
     ]
    }
   ],
   "source": [
    "def conversor_moedas(montante, cotacao_dolar, cotacao_libra, cotacao_euro):\n",
    "    montantes = {\n",
    "        'real': f\"{montante:.2f}\".replace('.', ','),\n",
    "        'dolar': f\"{(montante / cotacao_dolar):.2f}\".replace('.', ','),\n",
    "        'libra': f\"{(montante / cotacao_libra):.2f}\".replace('.', ','),\n",
    "        'euro': f\"{(montante / cotacao_euro):.2f}\".replace('.', ',')\n",
    "    }\n",
    "    return (\n",
    "        f\"Real -> {montantes['real']} reais\\n\"\n",
    "        f\"Dólar -> {montantes['dolar']} dólares\\n\"\n",
    "        f\"Libra -> {montantes['libra']} libras\\n\"\n",
    "        f\"Euro -> {montantes['euro']} euros\"\n",
    "    )\n",
    "\n",
    "print(conversor_moedas(\n",
    "    float(input('Informe o montante em reais: ')),\n",
    "    float(input('Informe a cotação atual do dólar: ')),\n",
    "    float(input('Informe a cotação atual da libra: ')),\n",
    "    float(input('Informe a cotação atual do euro: ')),\n",
    "))"
   ]
  },
  {
   "cell_type": "code",
   "execution_count": 2,
   "metadata": {},
   "outputs": [
    {
     "data": {
      "text/plain": [
       "'Velocidade média do percurso (em m/s): 1.34 metros por segundo'"
      ]
     },
     "execution_count": 2,
     "metadata": {},
     "output_type": "execute_result"
    }
   ],
   "source": [
    "# d -> km\n",
    "# hh:mm:ss\n",
    "# v - m/s\n",
    "\n",
    "def get_pace(distancia: float, tempo: list[int, int, int]) -> str:\n",
    "    tempo_segundos = tempo[0] * 3600 + tempo[1] * 60 + tempo[2]\n",
    "    velocidade_media = distancia * 1000 / tempo_segundos\n",
    "\n",
    "    return f\"Velocidade média do percurso (em m/s): {velocidade_media:.2f} metros por segundo\"\n",
    "\n",
    "get_pace(\n",
    "    float(input('Informe a distância percorrida em km: ')),\n",
    "    [\n",
    "        int(input('Informe o número de horas: ')),\n",
    "        int(input('Informe o número de minutos: ')),\n",
    "        int(input('Informe o número de segundos: '))\n",
    "    ]\n",
    ")\n"
   ]
  },
  {
   "cell_type": "code",
   "execution_count": 3,
   "metadata": {},
   "outputs": [
    {
     "name": "stdout",
     "output_type": "stream",
     "text": [
      "A partir do ponto inicial [0, 0] e da largura 5 e da altura 3:\n",
      " Os pontos são [[0, 0], [5, 0], [0, -3], [5, -3]]\n"
     ]
    }
   ],
   "source": [
    "def obter_vértices(x1, y1, width, height):\n",
    "    points = [[x1, y1], [x1 + width, y1], [x1, y1 - height], [x1 + width, y1 - height]]\n",
    "    return f'A partir do ponto inicial {[x1, y1]} e da largura {width} e da altura {height}:\\n Os pontos são {points}'\n",
    "\n",
    "\n",
    "x1 = int(input('Digite o x1: '))\n",
    "y1 = int(input('Digite o y1: '))\n",
    "largura = int(input('Digite o valor da largura: '))\n",
    "altura = int(input('Digite o valor da altura'))\n",
    "\n",
    "print(obter_vértices(x1, y1, largura, altura))"
   ]
  },
  {
   "cell_type": "code",
   "execution_count": null,
   "metadata": {},
   "outputs": [],
   "source": []
  }
 ],
 "metadata": {
  "kernelspec": {
   "display_name": "Python 3",
   "language": "python",
   "name": "python3"
  },
  "language_info": {
   "codemirror_mode": {
    "name": "ipython",
    "version": 3
   },
   "file_extension": ".py",
   "mimetype": "text/x-python",
   "name": "python",
   "nbconvert_exporter": "python",
   "pygments_lexer": "ipython3",
   "version": "3.10.13"
  }
 },
 "nbformat": 4,
 "nbformat_minor": 2
}
