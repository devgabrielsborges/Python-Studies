{
 "cells": [
  {
   "cell_type": "markdown",
   "metadata": {},
   "source": [
    "## Questão 1\n",
    "\n",
    "Você irá participar de um rali de regularidade. O rali de regularidade é uma  competição onde ganha quem mais se aproxima do tempo ideal ao percorrer um  determinado circuito. Para facilitar sua vida durante a competição, implemente um programa que, a partir da distância a ser percorrida (em km) e a velocidade média a ser  utilizada no percurso (em quilômetros por hora), calcule e exiba o tempo que deverá ser  gasto no percurso em horas, minutos e segundos.\n",
    "\n",
    "\n",
    "### Informações\n",
    "\n",
    "Dados de entrada:\n",
    "\n",
    "- Distância em Km\n",
    "- Velocidade média em Km/h\n",
    "\n",
    "Resultado esperado:\n",
    "\n",
    "- Calcular tempo em horas, minutos e segundos\n",
    "\n",
    "O que o programa deve fazer:\n",
    "\n",
    "- Exibir tempo em horas, minutos e segundos\n",
    "\n",
    "### Solução\n",
    "\n",
    "- Entrada: Distância (Km), Velocidade média (Km/h) <br>\n",
    "- Processamento: Calcular tempo(horas, minutos, segundos) <br>\n",
    "- Saída: Exibir tempo na tela"
   ]
  },
  {
   "cell_type": "code",
   "execution_count": 84,
   "metadata": {},
   "outputs": [
    {
     "name": "stdout",
     "output_type": "stream",
     "text": [
      "Tempo do percurso: 1h 30min 0s\n"
     ]
    }
   ],
   "source": [
    "def tempo_rali(distancia, velocidade_media):\n",
    "    distancia = distancia * 1000\n",
    "    velocidade_media = velocidade_media / 3.6\n",
    "    tempo_segundos = distancia / velocidade_media\n",
    "    horas = int(tempo_segundos / 3600)\n",
    "    minutos = int((tempo_segundos % 3600) / 60)\n",
    "    segundos = tempo_segundos - (horas * 3600 + minutos * 60)\n",
    "\n",
    "    return f'Tempo do percurso: {horas}h {minutos}min {segundos:.0f}s'\n",
    "\n",
    "print(tempo_rali(\n",
    "    int(input('Digite a distância do percurso em km: ')),\n",
    "    int(input('Digite a velocidade média em km/h: '))\n",
    "))"
   ]
  },
  {
   "cell_type": "markdown",
   "metadata": {},
   "source": [
    "## Questão 2\n",
    "\n",
    "Implemente um programa para, a partir dos comprimentos dos três lados de  um triângulo (S1, S2 e S3), calcular a área deste triângulo de acordo com a fórmula:\n",
    "\n",
    "\n",
    "### Informações\n",
    "\n",
    "Dados de entrada:\n",
    "- Lados do triângulo\n",
    "\n",
    "Resultado esperado:\n",
    "- Calcular área do triângulo\n",
    "\n",
    "O que o programa deve fazer:\n",
    "- Mostrar medida da área do triângulo\n",
    "\n",
    "### Solução\n",
    "\n",
    "- Entrada: (S1, S2, S3)\n",
    "- Processamento: Calcular e retornar área correspondente ao triângulo através da fórmula de Heron\n",
    "- Saída: Exibir área do triângulo"
   ]
  },
  {
   "cell_type": "code",
   "execution_count": 1,
   "metadata": {},
   "outputs": [
    {
     "name": "stdout",
     "output_type": "stream",
     "text": [
      "A área do triângulo é 49.48 unidades de área.\n"
     ]
    }
   ],
   "source": [
    "from math import sqrt\n",
    "\n",
    "\n",
    "def area_triangulo(s1, s2, s3):\n",
    "    try:\n",
    "        t = (s1 + s2 + s3) / 2\n",
    "        return sqrt(t * (t - s1) * (t - s2) * (t - s3))\n",
    "    except ValueError:\n",
    "        raise ValueError('Os lados informados não formam um triângulo.')\n",
    "\n",
    "lados = [int(input(f'Informe a medida do lado {i+1} do triângulo: ')) for i in range(3)]\n",
    "area = area_triangulo(*lados)\n",
    "\n",
    "print(f'A área do triângulo é {area:.2f} unidades de área.')"
   ]
  },
  {
   "cell_type": "markdown",
   "metadata": {},
   "source": [
    "## Questão 3\n",
    "\n",
    "Implemente um programa para, dado o valor de uma conta e o valor dado  para pagamento da mesma, informar o valor do troco e o número mínimo de cédulas  de cada tipo que deverão ser passadas para pagar este troco. Considere a existência  de cédulas de R$1, R$2, R$5, R$10, R$20, R$50 e R$100. \n",
    "\n",
    "\n",
    "### Informações\n",
    "\n",
    "Dados de entrada: <br>\n",
    "- Valor da conta\n",
    "- Valor dado para o pagamento<br>\n",
    "\n",
    "Resultado esperado:<br>\n",
    "- Valor do troco\n",
    "- Cédulas utilizadas<br>\n",
    "\n",
    "O que o programa deve fazer:\n",
    "- Mostrar valor do troco e cédulas utilizadas<br>\n",
    "\n",
    "### Solução\n",
    "\n",
    "- Entrada: Valor conta, valor dado para o pagamento<br>\n",
    "- Processamento: Apontar se o valor para o pagamento será suficiente, e se existirá troco <br>\n",
    "- Saída: Exibir situação do pagamento, e troco, se existir "
   ]
  },
  {
   "cell_type": "code",
   "execution_count": null,
   "metadata": {},
   "outputs": [],
   "source": [
    "def get_troco(valor_conta: int, valor_pagamento: int , cedulas_disponiveis: list[int]) -> str:\n",
    "    valor_troco = valor_pagamento - valor_conta\n",
    "\n",
    "    if valor_troco > 0:   # Se houver troco a ser devolvido\n",
    "        cedulas_disponiveis.sort(reverse=True)\n",
    "        troco = []\n",
    "\n",
    "        while valor_troco != 0:   # Enquanto houver troco a ser devolvido\n",
    "            for cedula in cedulas_disponiveis:\n",
    "                if valor_troco >= cedula:\n",
    "                    troco.append(cedula)\n",
    "                    valor_troco -= cedula\n",
    "                    break\n",
    "        troco_str = [\n",
    "            f'{troco.count(x)} cédula(s) de {x:.2f} reais'\n",
    "            for x in set(troco) if troco.count(x) > 0\n",
    "        ]\n",
    "        return(\n",
    "            f'Saldo devedor: R$ {valor_conta:.2f}\\n' \n",
    "            f'Valor pagamento: R$ {valor_pagamento:.2f}\\n O troco será de R$ {(sum(troco)):.2f}\\n'\n",
    "            f'Cédulas utilizadas: {troco_str}'\n",
    "        )\n",
    "    elif valor_troco == 0:   # Se o pagamento for exato\n",
    "        return (\n",
    "            f'Saldo devedor: R$ {valor_conta:.2f}\\n'\n",
    "            f'Valor pagamento: R$ {valor_pagamento:.2f}\\n'\n",
    "            'Não há troco a ser devolvido'\n",
    "        )\n",
    "    else:   # Se o valor do pagamento for insuficiente\n",
    "        return (\n",
    "            f'Saldo devedor: R$ {valor_conta:.2f}\\n'\n",
    "            f'Valor pagamento: R$ {valor_pagamento:.2f}\\n'\n",
    "            'Valor insuficiente para pagamento'\n",
    "        )\n",
    "\n",
    "print(get_troco(\n",
    "    int(input('Informe o valor da conta: ')),\n",
    "    int(input('Informe o valor para o pagamento: ')),\n",
    "    [1, 2, 5, 10, 20, 50, 100]\n",
    "))"
   ]
  }
 ],
 "metadata": {
  "kernelspec": {
   "display_name": "Python 3",
   "language": "python",
   "name": "python3"
  },
  "language_info": {
   "codemirror_mode": {
    "name": "ipython",
    "version": 3
   },
   "file_extension": ".py",
   "mimetype": "text/x-python",
   "name": "python",
   "nbconvert_exporter": "python",
   "pygments_lexer": "ipython3",
   "version": "3.10.13"
  }
 },
 "nbformat": 4,
 "nbformat_minor": 2
}
