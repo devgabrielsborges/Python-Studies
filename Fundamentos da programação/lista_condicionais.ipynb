{
 "cells": [
  {
   "cell_type": "markdown",
   "metadata": {},
   "source": [
    "### <u>Lista condicionais</u>"
   ]
  },
  {
   "cell_type": "markdown",
   "metadata": {},
   "source": [
    "## 1) Considere a situação em que um cliente faz uma compra em uma loja. Ao realizar o pagamento, lhe são oferecidas as seguintes opções:\n",
    "\n",
    "Opção 1 - Pagamento à vista – 15% de desconto sobre o valor total da compra.\n",
    "Opção 2 - Pagamento com cheque pré-datado para 30 dias – 10% de desconto sobre o valor total da compra.\n",
    "Opção 3 – Pagamento parcelado em 03 vezes – 5% de desconto sobre o valor total da compra.\n",
    "Opção 4 - Pagamento parcelado em 06 vezes – não tem desconto.\n",
    "Opção 5 - Pagamento parcelado em 12 vezes - 8% de acréscimo sobre o valor total da compra.\n",
    "\n",
    "De acordo com a opção escolhida pelo cliente, calcule o valor final da compra e, se a escolha for pelo pagamento parcelado, calcule o valor das parcelas. O programa deve apresentar ao usuário uma mensagem com o valor total da compra, o valor final da compra, a diferença entre os dois, identificando como desconto ou juros, de acordo com a opção do usuário.\n"
   ]
  },
  {
   "cell_type": "code",
   "execution_count": 3,
   "metadata": {},
   "outputs": [
    {
     "name": "stdout",
     "output_type": "stream",
     "text": [
      "Opção inválida\n"
     ]
    },
    {
     "ename": "SystemExit",
     "evalue": "",
     "output_type": "error",
     "traceback": [
      "An exception has occurred, use %tb to see the full traceback.\n",
      "\u001b[0;31mSystemExit\u001b[0m\n"
     ]
    },
    {
     "name": "stderr",
     "output_type": "stream",
     "text": [
      "/home/codespace/.local/lib/python3.10/site-packages/IPython/core/interactiveshell.py:3585: UserWarning: To exit: use 'exit', 'quit', or Ctrl-D.\n",
      "  warn(\"To exit: use 'exit', 'quit', or Ctrl-D.\", stacklevel=1)\n"
     ]
    }
   ],
   "source": [
    "valor_inicial = float(input('Digite o valor total da compra: '))\n",
    "forma_pagamento = int(input(\n",
    "    'Opções de pagamento:\\n'\n",
    "    '1 - pagamento à vista (15% de desconto)\\n'\n",
    "    '2 - pagamento com cheque pré-datado para 30 dias (10% de desconto)\\n'\n",
    "    '3 - pagamento parcelado em 3 vezes (5% de desconto)\\n'\n",
    "    '4 - pagamento parcelado em 6 vezes (sem desconto)\\n'\n",
    "    '5 - pagamento parcelado em 12 vezes (+8% de juros)\\n'\n",
    "    'Digite a forma de pagamento: '\n",
    "))\n",
    "match forma_pagamento:\n",
    "    case 1:\n",
    "        valor_final = valor_inicial * 0.85\n",
    "    case 2:\n",
    "        valor_final = valor_inicial * 0.90\n",
    "    case 3:\n",
    "        valor_final = valor_inicial * 0.95\n",
    "        valor_parcelas = valor_final / 3\n",
    "    case 4:\n",
    "        valor_final = valor_inicial\n",
    "        valor_parcelas = valor_final / 6\n",
    "    case 5:\n",
    "        valor_final = valor_inicial * 1.08\n",
    "        valor_parcelas = valor_final / 12\n",
    "    case _:\n",
    "        raise 'Opção inválida'\n",
    "\n",
    "print(\n",
    "    f' Valor total da compra: R$ {valor_inicial:.2f}\\n',\n",
    "    f'Valor final: R$ {valor_final:.2f}\\n',\n",
    "    f'Opção de pagamento: {forma_pagamento}\\n',\n",
    "    f'Valor das parcelas: R$ {valor_parcelas:.2f}\\n' if forma_pagamento in [3, 4, 5] else '\\n',\n",
    "    f'Desconto de R$ {(valor_inicial - valor_final):.2f}' if valor_inicial >= valor_final \n",
    "    else f'Juros de R$ {(valor_final - valor_inicial):.2f}'\n",
    ")\n"
   ]
  },
  {
   "cell_type": "markdown",
   "metadata": {},
   "source": [
    "<h2>2) Implemente um programa que, a partir da idade e do peso de um paciente, calcule a dosagem a ser tomada de determinado medicamento e exiba a receita informando quantas gotas do medicamento o paciente deve tomar. </h2>\n",
    "Considere que o medicamento em questão possui 500 mg por ml, e que cada ml corresponde a 20 gotas.<br>\n",
    "- Adultos ou adolescentes a partir de 12 anos, se tiverem peso igual ou acima de 60 quilos\n",
    "devem tomar 1000 mg; com peso abaixo de 60 quilos devem tomar 875 mg.\n",
    "- Para crianças e adolescentes abaixo de 12 anos a dosagem é calculada pelo peso corpóreo"
   ]
  },
  {
   "cell_type": "code",
   "execution_count": 2,
   "metadata": {},
   "outputs": [
    {
     "name": "stdout",
     "output_type": "stream",
     "text": [
      "Peso inválido\n"
     ]
    }
   ],
   "source": [
    "idade = int(input('Digite a idade: '))\n",
    "peso = float(input('Digite o peso: '))\n",
    "\n",
    "if idade < 12 or peso < 5:\n",
    "    print('Idade inválida' if idade < 12 else 'Peso inválido')\n",
    "else:\n",
    "    if idade >= 12:\n",
    "        if peso > 60:\n",
    "            dose = 1000\n",
    "        else:\n",
    "            dose = 875\n",
    "\n",
    "    elif peso >= 5 and peso <= 9:\n",
    "        dose = 125\n",
    "    elif peso > 9 and peso <= 16:\n",
    "        dose = 250\n",
    "    elif peso > 16 and peso <= 24:\n",
    "        dose = 375\n",
    "    elif peso > 24 and peso <= 30:\n",
    "        dose = 500\n",
    "    elif peso > 30:\n",
    "        dose = 750\n",
    "\n",
    "    print(\n",
    "        f' Idade: {idade} anos\\n',\n",
    "        f'Peso: {peso:.2f} kg\\n',\n",
    "        f'Dose: {dose} mg\\n',\n",
    "    )"
   ]
  },
  {
   "cell_type": "code",
   "execution_count": null,
   "metadata": {},
   "outputs": [],
   "source": []
  }
 ],
 "metadata": {
  "kernelspec": {
   "display_name": "Python 3",
   "language": "python",
   "name": "python3"
  },
  "language_info": {
   "codemirror_mode": {
    "name": "ipython",
    "version": 3
   },
   "file_extension": ".py",
   "mimetype": "text/x-python",
   "name": "python",
   "nbconvert_exporter": "python",
   "pygments_lexer": "ipython3",
   "version": "3.10.13"
  }
 },
 "nbformat": 4,
 "nbformat_minor": 2
}
