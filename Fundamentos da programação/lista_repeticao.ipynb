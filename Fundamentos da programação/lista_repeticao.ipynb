{
 "cells": [
  {
   "cell_type": "markdown",
   "metadata": {},
   "source": [
    "### <u>Lista de Exercícios de Fundamentos da Programação - Estruturas de repetição</u>"
   ]
  },
  {
   "cell_type": "markdown",
   "metadata": {},
   "source": [
    "1 - Implemente um programa para solicitar ao usuário que informe um número inteiro N maior ou igual a dez. O\n",
    "programa deve garantir (forçar) a digitação de um número válido (maior ou igual a dez). De posse de um número\n",
    "válido, o programa deve exibir todos os números inteiros no intervalo de 1 até N.<br>\n",
    "Exemplo: Suponha que o usuário digite 15. Os números que serão exibidos pelo programa serão<br>\n",
    "1 2 3 4 5 6 7 8 9 10 11 12 13 14 15"
   ]
  },
  {
   "cell_type": "code",
   "execution_count": 24,
   "metadata": {},
   "outputs": [
    {
     "name": "stdout",
     "output_type": "stream",
     "text": [
      "1 2 3 4 5 6 7 8 9 10 11 12 13 14 15 16 17 18 19 20 21 22 23 24 25 26 27 28 29 30 \n"
     ]
    }
   ],
   "source": [
    "n_usuario = int(input('Digite um número inteiro maior ou igual a 10'))\n",
    "valores_exibir = ''\n",
    "\n",
    "while n_usuario < 10:\n",
    "    n_usuario = int(input('Digite um número inteiro maior ou igual a 10'))\n",
    "\n",
    "for n in range(1, n_usuario + 1):\n",
    "    valores_exibir += f'{n} '\n",
    "print(valores_exibir)"
   ]
  },
  {
   "cell_type": "markdown",
   "metadata": {},
   "source": [
    "2 – Implemente um programa para solicitar ao usuário que digite números inteiros (positivos ou negativos). A\n",
    "quantidade de números que o usuário irá digitar não é previamente determinada. O programa vai parar de solicitar\n",
    "números ao usuário quando for digitado o número zero. Ao encerrar a entrada de dados, o programa deverá exibir\n",
    "quantos dos números informados pelo usuário eram pares e quantos eram ímpares."
   ]
  },
  {
   "cell_type": "code",
   "execution_count": 27,
   "metadata": {},
   "outputs": [
    {
     "name": "stdout",
     "output_type": "stream",
     "text": [
      "Você digitou 3 número(s) par(es) e 1 número(s) ímpar(es)\n"
     ]
    }
   ],
   "source": [
    "pares, impares = 0, 0\n",
    "while True:\n",
    "    n_usuario = int(input('Digite 0 para encerrar ou qualquer valor para inserir um novo número: '))\n",
    "    if n_usuario == 0:\n",
    "        break\n",
    "    if n_usuario % 2 == 0:\n",
    "        pares += 1\n",
    "    else:\n",
    "        impares += 1\n",
    "print(f'Você digitou {pares} número(s) par(es) e {impares} número(s) ímpar(es)')"
   ]
  },
  {
   "cell_type": "markdown",
   "metadata": {},
   "source": [
    "3 - Implemente um programa para exibir os cubos dos números inteiros no intervalo de A até B. Os valores de A e B\n",
    "devem ser informados pelo usuário. OBS: O programa deve garantir (forçar) que o valor de B seja maior que o valor de\n",
    "A."
   ]
  },
  {
   "cell_type": "code",
   "execution_count": 90,
   "metadata": {},
   "outputs": [
    {
     "name": "stdout",
     "output_type": "stream",
     "text": [
      "Os cubos dos números inteiros de 1 a 9 são:\n",
      " 1  8  27  64  125  216  343  512  729  \n"
     ]
    }
   ],
   "source": [
    "a = int(input('Digite um valor para A: '))\n",
    "b = int(input('Digite um valor para B que seja maior que A: '))\n",
    "cubos = ''\n",
    "\n",
    "while b <= a:\n",
    "    b = int(input('Digite um valor para B que seja maior que A: '))\n",
    "\n",
    "for n in range(a, b + 1):\n",
    "    cubos += f'{n**3}  '\n",
    "print(f'Os cubos dos números inteiros de {a} a {b} são:\\n {cubos}')"
   ]
  },
  {
   "cell_type": "markdown",
   "metadata": {},
   "source": [
    "4 - A nota de um aluno em uma disciplina é a média aritmética das notas de suas duas avaliações parciais. Se a média\n",
    "do aluno for maior ou igual a sete, o aluno está aprovado. Se a média do aluno for menor que três, o aluno está\n",
    "reprovado. Se a média do aluno for menor que sete e maior ou igual a três, o aluno irá para a recuperação.<br>\n",
    "Implemente um programa para solicitar ao usuário as notas das duas avaliações parciais e calcular a média de um\n",
    "aluno de uma determinada disciplina e informar sua situação final. O programa deverá exibir a seguinte frase: “O\n",
    "aluno obteve média (média do aluno) e está (situação do aluno).”<br>\n",
    "OBS: Faça a validação dos dados informados pelo usuário de forma que o programa FORCE a digitação de notas no\n",
    "intervalo de 0 a 10."
   ]
  },
  {
   "cell_type": "code",
   "execution_count": 88,
   "metadata": {},
   "outputs": [
    {
     "name": "stdout",
     "output_type": "stream",
     "text": [
      "O aluno obteve média 6.5 e está em recuperação\n"
     ]
    }
   ],
   "source": [
    "nota1, nota2 = int(input('Digite a primeira nota: ')), int(input('Digite a segunda nota: '))\n",
    "media = (nota1 + nota2) / 2\n",
    "\n",
    "if media >= 7:\n",
    "    situacao = 'aprovado'\n",
    "elif media >= 3:\n",
    "    situacao = 'em recuperação'\n",
    "else:\n",
    "    situacao = 'reprovado'\n",
    "\n",
    "print(f'O aluno obteve média {media} e está {situacao}')"
   ]
  },
  {
   "cell_type": "markdown",
   "metadata": {},
   "source": [
    "5 - Implemente uma nova versão do programa da questão anterior de forma que, nesta nova versão, seja calculada e\n",
    "exibida a média e a situação dos 30 alunos de uma determinada turma."
   ]
  },
  {
   "cell_type": "code",
   "execution_count": 39,
   "metadata": {},
   "outputs": [
    {
     "name": "stdout",
     "output_type": "stream",
     "text": [
      "O aluno No 0 obteve média 6.0 e está em recuperação\n",
      "O aluno No 1 obteve média 4.0 e está em recuperação\n",
      "O aluno No 2 obteve média 4.0 e está em recuperação\n",
      "O aluno No 3 obteve média 6.5 e está em recuperação\n",
      "O aluno No 4 obteve média 3.5 e está em recuperação\n",
      "O aluno No 5 obteve média 2.5 e está reprovado\n",
      "O aluno No 6 obteve média 2.0 e está reprovado\n",
      "O aluno No 7 obteve média 6.5 e está em recuperação\n",
      "O aluno No 8 obteve média 4.5 e está em recuperação\n",
      "O aluno No 9 obteve média 5.5 e está em recuperação\n",
      "O aluno No 10 obteve média 10.0 e está aprovado\n",
      "O aluno No 11 obteve média 5.0 e está em recuperação\n",
      "O aluno No 12 obteve média 5.5 e está em recuperação\n",
      "O aluno No 13 obteve média 1.0 e está reprovado\n",
      "O aluno No 14 obteve média 3.5 e está em recuperação\n",
      "O aluno No 15 obteve média 6.0 e está em recuperação\n",
      "O aluno No 16 obteve média 2.5 e está reprovado\n",
      "O aluno No 17 obteve média 5.5 e está em recuperação\n",
      "O aluno No 18 obteve média 4.5 e está em recuperação\n",
      "O aluno No 19 obteve média 1.5 e está reprovado\n",
      "O aluno No 20 obteve média 6.0 e está em recuperação\n",
      "O aluno No 21 obteve média 3.0 e está em recuperação\n",
      "O aluno No 22 obteve média 5.5 e está em recuperação\n",
      "O aluno No 23 obteve média 7.0 e está aprovado\n",
      "O aluno No 24 obteve média 3.5 e está em recuperação\n",
      "O aluno No 25 obteve média 3.5 e está em recuperação\n",
      "O aluno No 26 obteve média 4.5 e está em recuperação\n",
      "O aluno No 27 obteve média 2.5 e está reprovado\n",
      "O aluno No 28 obteve média 6.5 e está em recuperação\n",
      "O aluno No 29 obteve média 8.0 e está aprovado\n"
     ]
    }
   ],
   "source": [
    "from random import randint\n",
    "\n",
    "for indice in range(30):\n",
    "    nota1, nota2 = randint(0, 10), randint(0, 10)\n",
    "    media = (nota1 + nota2) / 2\n",
    "  \n",
    "    if media >= 7:\n",
    "        situacao = 'aprovado'\n",
    "    elif media >= 3:\n",
    "        situacao = 'em recuperação'\n",
    "    else:\n",
    "        situacao = 'reprovado'\n",
    "\n",
    "    print(f'O aluno No {indice} obteve média {media} e está {situacao}')"
   ]
  },
  {
   "cell_type": "code",
   "execution_count": 98,
   "metadata": {},
   "outputs": [
    {
     "name": "stdout",
     "output_type": "stream",
     "text": [
      "No total, 10 aluno(s) foram aprovados\n",
      "15 aluno(s) estão em recuperação\n",
      "e 5 aluno(s) foram reprovados\n"
     ]
    }
   ],
   "source": [
    "# questão 6\n",
    "\n",
    "from random import randint\n",
    "\n",
    "\n",
    "aprovados, reprovados, recuperacao = 0, 0, 0\n",
    "\n",
    "for indice in range(30):\n",
    "    nota1, nota2 = randint(0, 10), randint(0, 10)\n",
    "    media = (nota1 + nota2) / 2\n",
    "  \n",
    "    if media >= 7:\n",
    "        situacao = 'aprovado'\n",
    "        aprovados += 1\n",
    "\n",
    "    elif media >= 3:\n",
    "        situacao = 'em recuperação'\n",
    "        recuperacao += 1\n",
    "    else:\n",
    "        situacao = 'reprovado'\n",
    "        reprovados += 1\n",
    "print(\n",
    "    f'No total, {aprovados} aluno(s) foram aprovados\\n'\n",
    "    f'{recuperacao} aluno(s) estão em recuperação\\n'\n",
    "    f'e {reprovados} aluno(s) foram reprovados'\n",
    ")"
   ]
  },
  {
   "cell_type": "code",
   "execution_count": 99,
   "metadata": {},
   "outputs": [
    {
     "name": "stdout",
     "output_type": "stream",
     "text": [
      "No total, 23.33% dos aluno(s) foram aprovados\n",
      "70.00% dos aluno(s) estão em recuperação\n",
      "e 6.67% dos aluno(s) foram reprovados\n"
     ]
    }
   ],
   "source": [
    "# questão 7\n",
    "\n",
    "from random import randint   # para gerar números aleatórios para as notas\n",
    "\n",
    "\n",
    "aprovados, reprovados, recuperacao = 0, 0, 0\n",
    "\n",
    "for indice in range(30):\n",
    "    nota1, nota2 = randint(0, 10), randint(0, 10)\n",
    "    media = (nota1 + nota2) / 2\n",
    "  \n",
    "    if media >= 7:\n",
    "        situacao = 'aprovado'\n",
    "        aprovados += 1\n",
    "\n",
    "    elif media >= 3:\n",
    "        situacao = 'em recuperação'\n",
    "        recuperacao += 1\n",
    "    else:\n",
    "        situacao = 'reprovado'\n",
    "        reprovados += 1\n",
    "print(\n",
    "    f'No total, {(aprovados / 30 * 100):.2f}% dos aluno(s) foram aprovados\\n'\n",
    "    f'{(recuperacao / 30 * 100):.2f}% dos aluno(s) estão em recuperação\\n'\n",
    "    f'e {(reprovados / 30 * 100):.2f}% dos aluno(s) foram reprovados'\n",
    ")"
   ]
  },
  {
   "cell_type": "code",
   "execution_count": 87,
   "metadata": {},
   "outputs": [
    {
     "name": "stdout",
     "output_type": "stream",
     "text": [
      "A média da turma foi de 5.00\n"
     ]
    }
   ],
   "source": [
    "# questão 8\n",
    "\n",
    "from random import randint   # para gerar números aleatórios para as notas\n",
    "\n",
    "\n",
    "aprovados, reprovados, recuperacao = 0, 0, 0\n",
    "soma_medias = 0\n",
    "\n",
    "for indice in range(30):\n",
    "    nota1, nota2 = randint(0, 10), randint(0, 10)\n",
    "    media = (nota1 + nota2) / 2\n",
    "    soma_medias += media\n",
    "  \n",
    "    if media >= 7:\n",
    "        situacao = 'aprovado'\n",
    "        aprovados += 1\n",
    "\n",
    "    elif media >= 3:\n",
    "        situacao = 'em recuperação'\n",
    "        recuperacao += 1\n",
    "    else:\n",
    "        situacao = 'reprovado'\n",
    "        reprovados += 1\n",
    "print(f'A média da turma foi de {soma_medias / 30:.2f}')\n"
   ]
  },
  {
   "cell_type": "markdown",
   "metadata": {},
   "source": [
    "9 - Em um lugar chamado Paraíso Feliz, para votar em uma eleição, uma pessoa deve ter idade entre 18 e 90 anos. No<br>\n",
    "Paraíso Feliz moram apenas 100 pessoas. Implemente um programa para solicitar ao usuário a idade de cada pessoa<br>\n",
    "que mora no Paraíso Feliz e determinar se esta pessoa pode ou não votar. Para cada pessoa, o programa deve exibir a<br>\n",
    "seguinte frase: “Esta pessoa tem <idade> anos e [pode / não pode] votar.” Ao final, o programa deve exibir o total e<br>\n",
    "o percentual de votantes e não votantes. OBS: O programa deve forçar a digitação de idades no intervalo de 0 a 120."
   ]
  },
  {
   "cell_type": "code",
   "execution_count": 66,
   "metadata": {},
   "outputs": [
    {
     "name": "stdout",
     "output_type": "stream",
     "text": [
      "Esta pessoa tem 82 anos e pode votar\n",
      "Esta pessoa tem 120 anos e não pode votar\n",
      "Esta pessoa tem 109 anos e não pode votar\n",
      "Esta pessoa tem 98 anos e não pode votar\n",
      "Esta pessoa tem 103 anos e não pode votar\n",
      "Esta pessoa tem 78 anos e pode votar\n",
      "Esta pessoa tem 100 anos e não pode votar\n",
      "Esta pessoa tem 73 anos e pode votar\n",
      "Esta pessoa tem 10 anos e não pode votar\n",
      "Esta pessoa tem 62 anos e pode votar\n",
      "Esta pessoa tem 44 anos e pode votar\n",
      "Esta pessoa tem 94 anos e não pode votar\n",
      "Esta pessoa tem 107 anos e não pode votar\n",
      "Esta pessoa tem 8 anos e não pode votar\n",
      "Esta pessoa tem 108 anos e não pode votar\n",
      "Esta pessoa tem 9 anos e não pode votar\n",
      "Esta pessoa tem 44 anos e pode votar\n",
      "Esta pessoa tem 14 anos e não pode votar\n",
      "Esta pessoa tem 62 anos e pode votar\n",
      "Esta pessoa tem 90 anos e pode votar\n",
      "Esta pessoa tem 86 anos e pode votar\n",
      "Esta pessoa tem 8 anos e não pode votar\n",
      "Esta pessoa tem 113 anos e não pode votar\n",
      "Esta pessoa tem 34 anos e pode votar\n",
      "Esta pessoa tem 90 anos e pode votar\n",
      "Esta pessoa tem 31 anos e pode votar\n",
      "Esta pessoa tem 3 anos e não pode votar\n",
      "Esta pessoa tem 18 anos e pode votar\n",
      "Esta pessoa tem 21 anos e pode votar\n",
      "Esta pessoa tem 53 anos e pode votar\n",
      "Esta pessoa tem 41 anos e pode votar\n",
      "Esta pessoa tem 43 anos e pode votar\n",
      "Esta pessoa tem 18 anos e pode votar\n",
      "Esta pessoa tem 80 anos e pode votar\n",
      "Esta pessoa tem 52 anos e pode votar\n",
      "Esta pessoa tem 88 anos e pode votar\n",
      "Esta pessoa tem 29 anos e pode votar\n",
      "Esta pessoa tem 89 anos e pode votar\n",
      "Esta pessoa tem 115 anos e não pode votar\n",
      "Esta pessoa tem 26 anos e pode votar\n",
      "Esta pessoa tem 56 anos e pode votar\n",
      "Esta pessoa tem 48 anos e pode votar\n",
      "Esta pessoa tem 8 anos e não pode votar\n",
      "Esta pessoa tem 28 anos e pode votar\n",
      "Esta pessoa tem 91 anos e não pode votar\n",
      "Esta pessoa tem 29 anos e pode votar\n",
      "Esta pessoa tem 8 anos e não pode votar\n",
      "Esta pessoa tem 49 anos e pode votar\n",
      "Esta pessoa tem 98 anos e não pode votar\n",
      "Esta pessoa tem 89 anos e pode votar\n",
      "Esta pessoa tem 38 anos e pode votar\n",
      "Esta pessoa tem 10 anos e não pode votar\n",
      "Esta pessoa tem 63 anos e pode votar\n",
      "Esta pessoa tem 82 anos e pode votar\n",
      "Esta pessoa tem 9 anos e não pode votar\n",
      "Esta pessoa tem 82 anos e pode votar\n",
      "Esta pessoa tem 102 anos e não pode votar\n",
      "Esta pessoa tem 90 anos e pode votar\n",
      "Esta pessoa tem 89 anos e pode votar\n",
      "Esta pessoa tem 6 anos e não pode votar\n",
      "Esta pessoa tem 59 anos e pode votar\n",
      "Esta pessoa tem 2 anos e não pode votar\n",
      "Esta pessoa tem 35 anos e pode votar\n",
      "Esta pessoa tem 40 anos e pode votar\n",
      "Esta pessoa tem 51 anos e pode votar\n",
      "Esta pessoa tem 87 anos e pode votar\n",
      "Esta pessoa tem 28 anos e pode votar\n",
      "Esta pessoa tem 80 anos e pode votar\n",
      "Esta pessoa tem 1 anos e não pode votar\n",
      "Esta pessoa tem 29 anos e pode votar\n",
      "Esta pessoa tem 107 anos e não pode votar\n",
      "Esta pessoa tem 17 anos e não pode votar\n",
      "Esta pessoa tem 87 anos e pode votar\n",
      "Esta pessoa tem 95 anos e não pode votar\n",
      "Esta pessoa tem 101 anos e não pode votar\n",
      "Esta pessoa tem 38 anos e pode votar\n",
      "Esta pessoa tem 35 anos e pode votar\n",
      "Esta pessoa tem 33 anos e pode votar\n",
      "Esta pessoa tem 84 anos e pode votar\n",
      "Esta pessoa tem 6 anos e não pode votar\n",
      "Esta pessoa tem 89 anos e pode votar\n",
      "Esta pessoa tem 65 anos e pode votar\n",
      "Esta pessoa tem 19 anos e pode votar\n",
      "Esta pessoa tem 102 anos e não pode votar\n",
      "Esta pessoa tem 21 anos e pode votar\n",
      "Esta pessoa tem 53 anos e pode votar\n",
      "Esta pessoa tem 87 anos e pode votar\n",
      "Esta pessoa tem 7 anos e não pode votar\n",
      "Esta pessoa tem 50 anos e pode votar\n",
      "Esta pessoa tem 88 anos e pode votar\n",
      "Esta pessoa tem 75 anos e pode votar\n",
      "Esta pessoa tem 59 anos e pode votar\n",
      "Esta pessoa tem 120 anos e não pode votar\n",
      "Esta pessoa tem 82 anos e pode votar\n",
      "Esta pessoa tem 72 anos e pode votar\n",
      "Esta pessoa tem 31 anos e pode votar\n",
      "Esta pessoa tem 85 anos e pode votar\n",
      "Esta pessoa tem 117 anos e não pode votar\n",
      "Esta pessoa tem 105 anos e não pode votar\n",
      "Esta pessoa tem 112 anos e não pode votar\n",
      "No total, 63 pessoas podem votar. 63% da população\n",
      "e 37 pessoas não podem votar. 37% da população\n"
     ]
    }
   ],
   "source": [
    "n_votantes = 0\n",
    "for i in range(100):\n",
    "    idade = int(input('Digite a idade do cidadão: '))\n",
    "    \n",
    "    while 0 > idade or idade > 120:\n",
    "        idade = int(input('Digite a idade do cidadão: '))\n",
    "    \n",
    "    if 18 <= idade <= 90:\n",
    "        votante = True\n",
    "        n_votantes += 1\n",
    "    else:\n",
    "        votante = False\n",
    "    print(\n",
    "        f'Esta pessoa tem {idade} anos e pode votar' if votante\n",
    "        else f'Esta pessoa tem {idade} anos e não pode votar'\n",
    "    )\n",
    "print(\n",
    "    f'No total, {n_votantes} pessoas podem votar. {n_votantes}% da população\\n'\n",
    "    f'e {100 - n_votantes} pessoas não podem votar. {100 - n_votantes}% da população'\n",
    ")    "
   ]
  },
  {
   "cell_type": "markdown",
   "metadata": {},
   "source": [
    "10 - Implemente um programa que solicite ao usuário o valor que o cliente deseja investir e calcule e exiba quais os tipos<br>\n",
    "de aplicação que ele pode fazer e qual será sua rentabilidade (lucro) em cada uma delas (se for mais de uma). O<br>\n",
    "programa deve repetir o cálculo para um número indeterminado de clientes. A cada cliente analisado, o programa<br>\n",
    "deverá perguntar se o usuário deseja analisar a situação de outro cliente. A esta pergunta, o usuário deverá responder<br>\n",
    "‘s’, ‘S’, ‘n’ ou ‘N’. O programa não deverá aceitar outras respostas. O programa deverá ser encerrado se o usuário<br>\n",
    "responder ‘n’ ou ‘N’. OBS: O programa deve FORÇAR a digitação de valores de investimento maiores que zero.<br>"
   ]
  },
  {
   "cell_type": "code",
   "execution_count": 97,
   "metadata": {},
   "outputs": [
    {
     "name": "stdout",
     "output_type": "stream",
     "text": [
      "Opções de investimento para o valor de R$100.00:\n",
      " Poupança: rentabilidade de R$5.00 ao mês\n",
      " \n",
      " \n",
      "Opções de investimento para o valor de R$2499.00:\n",
      " Poupança: rentabilidade de R$124.95 ao mês\n",
      " Fundos de renda fixa: rentabilidade de R$249.90 ao mês\n",
      " \n",
      "Opções de investimento para o valor de R$5000.00:\n",
      " Poupança: rentabilidade de R$250.00 ao mês\n",
      " Fundos de renda fixa: rentabilidade de R$500.00 ao mês\n",
      " CDBs: rentabilidade de R$750.00 ao mês\n",
      "\n"
     ]
    }
   ],
   "source": [
    "while True:\n",
    "    investimento = float(input('Digite o valor do investimento: '))\n",
    "    if investimento > 0:\n",
    "        print(\n",
    "            f'Opções de investimento para o valor de R${investimento:.2f}:\\n '\n",
    "            f'Poupança: rentabilidade de R${investimento * 0.05:.2f} ao mês\\n' if investimento >= 100\n",
    "            else '\\n',\n",
    "            f'Fundos de renda fixa: rentabilidade de R${investimento * 0.1:.2f} ao mês\\n' if investimento >= 1000\n",
    "            else '\\n',\n",
    "            f'CDBs: rentabilidade de R${investimento * 0.15:.2f} ao mês\\n' if investimento >= 2500\n",
    "            else ''\n",
    "        )\n",
    "        condicao = input('Deseja analisar a situação de outro cliente? (s/n)\\n: ')\n",
    "        if condicao not in 'NnSs' or condicao in 'Nn':\n",
    "            break"
   ]
  }
 ],
 "metadata": {
  "kernelspec": {
   "display_name": "Python 3",
   "language": "python",
   "name": "python3"
  },
  "language_info": {
   "codemirror_mode": {
    "name": "ipython",
    "version": 3
   },
   "file_extension": ".py",
   "mimetype": "text/x-python",
   "name": "python",
   "nbconvert_exporter": "python",
   "pygments_lexer": "ipython3",
   "version": "3.10.13"
  }
 },
 "nbformat": 4,
 "nbformat_minor": 2
}
