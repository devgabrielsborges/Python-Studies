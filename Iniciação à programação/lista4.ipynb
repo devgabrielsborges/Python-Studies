{
 "cells": [
  {
   "cell_type": "markdown",
   "metadata": {},
   "source": [
    "## Questão 1\n",
    "\n",
    "Necessitamos de um programa que, dado um raio R, informado pelo usuário, calcule:<br> \n",
    "(a) O comprimento da circunferência de raio R: C = 2 π R <br>\n",
    "(b) A área do círculo de raio R: A = π R2 <br>\n",
    "(c) O volume da esfera de raio R: V = ¾πR3"
   ]
  },
  {
   "cell_type": "markdown",
   "metadata": {},
   "source": [
    "### Informações\n",
    "\n",
    "Dados de entrada: raio do círculo <br>\n",
    "Resultado esperado: obter informações sobre circunferência, area e volume <br>\n",
    "O que o programa deve fazer: printar na tela as informações obtidas<br>\n",
    "\n",
    "### Solução\n",
    "\n",
    "- Entrada: obter o raio<br>\n",
    "- Processamento: <br>- calcular a medida da circunferência<br>- calcular a área<br>- calcular o volume<br>\n",
    "- Saída: exibir as informações obtidas no processamento<br>"
   ]
  },
  {
   "cell_type": "code",
   "execution_count": null,
   "metadata": {},
   "outputs": [],
   "source": [
    "from math import pi\n",
    "\n",
    "\n",
    "def get_circle(radius : float) -> dict:\n",
    "    circunferency = 2 * pi * radius\n",
    "    area = pi * radius**2\n",
    "    volume = (3 * pi * radius**3) / 4\n",
    "\n",
    "    circle_info = {\n",
    "        'circunferency': circunferency,\n",
    "        'area': area,\n",
    "        'volume': volume\n",
    "    }\n",
    "\n",
    "    return circle_info\n",
    "\n",
    "\n",
    "circle = get_circle(float(input('Digite o raio do círculo: ')))\n",
    "print(\n",
    "    f\"Circunferência: {circle['circunferency']:.2f}\\n\"\n",
    "    f\"Area: {circle['area']:.2f}\\n\"\n",
    "    f\"Volume: {circle['volume']:.2f}\"\n",
    ")"
   ]
  },
  {
   "cell_type": "markdown",
   "metadata": {},
   "source": [
    "### Casos de uso:\n",
    "\n",
    "- Dados de entrada: raio = 5\n",
    "- Resultado esperado: <br>\n",
    "\n",
    "Circunferência: 31.42<br>\n",
    "Area: 78.54<br>\n",
    "Volume: 294.52<br>\n",
    "\n",
    "- Dados de entrada: raio = 10\n",
    "- Resultado esperado: <br>\n",
    "\n",
    "Circunferência: 62.83<br>\n",
    "Area: 314.16<br>\n",
    "Volume: 2356.19<br> \n"
   ]
  },
  {
   "cell_type": "markdown",
   "metadata": {},
   "source": [
    "## Questão 2\n",
    "\n",
    "Pedro tem um gato. O gato de Pedro só come ração. Pedro viaja com  muita frequência e, nessas ocasiões, pede a sua vizinha para alimentar seu gato.<br>Pedro gostaria de um programa que dada a quantidade de ração que o gato de Pedro  come por dia (em gramas) e a quantidade de dias que Pedro<br>irá passar viajando,  informe quantos sacos de ração ele precisa deixar com sua vizinha.  OBS: Um saco contém 1 (um) quilo de ração. "
   ]
  },
  {
   "cell_type": "markdown",
   "metadata": {},
   "source": [
    "### Informações\n",
    "\n",
    "Dados de entrada: quantidade de ração(gramas/dia) que o gato come; quantidade de dias viajando<br>\n",
    "Resultado esperado: quantos sacos de ração ele deve deixar com sua vizinha<br>\n",
    "O que o programa deve fazer: printar na tela a quantidade de ração necessária<br>\n",
    "\n",
    "### Solução\n",
    "\n",
    "- Entrada: ração(gramas/dia); dias viajando<br>\n",
    "- Processamento: obter total de ração necessária<br>\n",
    "- Saída: exibir a informação obtida no processamento<br>"
   ]
  },
  {
   "cell_type": "code",
   "execution_count": null,
   "metadata": {},
   "outputs": [],
   "source": [
    "racao_necessaria = lambda gramas_dia, dias_viajando : gramas_dia * dias_viajando\n",
    "\n",
    "gramas = int(input('Qual a quantidade de gramas consumida por dia de ração? (apenas o número)\\n: '))\n",
    "dias = int(input('A viagem será de quantos dias? (apenas número)\\n: '))\n",
    "\n",
    "print(f'A quantidade de ração necessária será de {racao_necessaria(gramas, dias)} gramas')\n"
   ]
  },
  {
   "cell_type": "markdown",
   "metadata": {},
   "source": [
    "### Casos de uso:\n",
    "\n",
    "- Dados de entrada: gramas/dia = 100 gramas; dias viajando = 10 dias\n",
    "- Resultado esperado: A quantidade de ração necessária será de 1000 gramas\n",
    "<br>\n",
    "- Dados de entrada: gramas/dia = 123 gramas; dias viajando = 45 dias\n",
    "- Resultado esperado: A quantidade de ração necessária será de 5535 gramas"
   ]
  },
  {
   "cell_type": "markdown",
   "metadata": {},
   "source": [
    "## Questão 3\n",
    "\n",
    "Dizemos que um quadrado envolvente de um círculo é o menor quadrado  possível que contenha um círculo em seu interior.<br>Assumindo que esse quadrado está  alinhado com os eixos, implemente um programa que receba o canto superior  esquerdo<br> e o canto inferior direito do quadrado e calcule a coordenada do centro do  círculo, bem como seu raio"
   ]
  },
  {
   "cell_type": "markdown",
   "metadata": {},
   "source": [
    "### Informações\n",
    "\n",
    "Dados de entrada: vértice superior esquerdo; vértice inferior direito<br>\n",
    "Resultado esperado: raio e coordenadas do centro<br>\n",
    "O que o programa deve fazer: exibir o raio e as coordenadas do centro<br>\n",
    "\n",
    "### Solução\n",
    "\n",
    "- Entrada: p1, p2<br>\n",
    "- Processamento: calcular raio e obter coordenadas do centro<br>\n",
    "- Saída: exibir informações obtidas no processamento<br>"
   ]
  },
  {
   "cell_type": "code",
   "execution_count": 18,
   "metadata": {},
   "outputs": [
    {
     "name": "stdout",
     "output_type": "stream",
     "text": [
      "Raio: 5.0\n",
      "Coordenadas centro: [12.5, 7.5]\n"
     ]
    }
   ],
   "source": [
    "from math import sqrt\n",
    "\n",
    "\n",
    "def get_circle_info(p1: list[float, float], p2: list[float, float]) -> dict:\n",
    "    height = p1[1] - p2[1]\n",
    "    width = p2[0] - p1[0]\n",
    "    if height == width:\n",
    "        center_position = [p1[0] - width/2, p1[1] - height/2]\n",
    "\n",
    "        circle_info = {\n",
    "            'radius': sqrt(width**2),\n",
    "            'center_position': center_position\n",
    "        }\n",
    "\n",
    "        return f\"Raio: {circle_info['radius']}\\nCoordenadas centro: {circle_info['center_position']}\"\n",
    "    else:\n",
    "        return f\"Não é um quadrado\"\n",
    "\n",
    "\n",
    "print(get_circle_info(\n",
    "    [int(input('x1: ')), int(input('y1: '))],\n",
    "    [int(input('x2: ')), int(input('y2: '))]\n",
    "))\n"
   ]
  },
  {
   "cell_type": "markdown",
   "metadata": {},
   "source": [
    "### Casos de uso:\n",
    "\n",
    "- Dados de entrada: (5, 0); (0, 5)\n",
    "- Resultado esperado:<br>\n",
    "Raio: 5.0<br>\n",
    "Coordenadas centro: [7.5, 2.5]\n",
    "<br>\n",
    "\n",
    "- Dados de entrada: (10, 5), (5, 10)\n",
    "- Resultado esperado:<br>\n",
    "Raio: 5.0<br>\n",
    "Coordenadas centro: [12.5, 7.5]"
   ]
  },
  {
   "cell_type": "markdown",
   "metadata": {},
   "source": [
    "### Questão 4\n",
    "\n",
    "Implemente um programa para solicitar ao usuário dois valores inteiros,  um para a variável A e outro para a variável B. O programa deverá efetuar a troca dos  valores da variáveis de forma que a variável A passe a armazenar o valor que estava  anteriormente na variável B e a variável B passe a armazenar o valor que estava  anteriormente na variável A. Ao final, o programa deve exibir a seguinte frase: \n",
    "O novo valor de A é _______ e o novo valor de B é\n"
   ]
  },
  {
   "cell_type": "markdown",
   "metadata": {},
   "source": [
    "### Informações\n",
    "\n",
    "Dados de entrada: inteiro A; inteiro B<br>\n",
    "Resultado esperado: A -> B; B -> A<br>\n",
    "O que o programa deve fazer: Fazer uma troca entre os valores das variáveis<br>\n",
    "\n",
    "### Solução\n",
    "\n",
    "- Entrada: int A, int B<br>\n",
    "- Processamento: A -> B; B -> A<br>\n",
    "- Saída: Exibir a frase com o valor novo e antigo de A e B<br>"
   ]
  },
  {
   "cell_type": "code",
   "execution_count": null,
   "metadata": {},
   "outputs": [],
   "source": [
    "def switcher(A: int, B: int) -> tuple[str]:\n",
    "    values = [A, B]\n",
    "    A = values[1]\n",
    "    B = values[0]\n",
    "    return (\n",
    "        f'O novo valor de A é {A} e o novo valor de B é {B}\\n'\n",
    "        f'A antes -> {B}; A agora -> {A}\\n'\n",
    "        f'B antes -> {A}; B agora -> {B}'\n",
    "    )\n",
    "\n",
    "print(switcher(\n",
    "    int(input('Digite o valor de A:')),\n",
    "    int(input('Digite o valor de B:'))\n",
    "))"
   ]
  },
  {
   "cell_type": "markdown",
   "metadata": {},
   "source": [
    "### Casos de uso:\n",
    "\n",
    "- Dados de entrada: A = 1; B = 2\n",
    "- Resultado esperado:<br>\n",
    "O novo valor de A é 2 e o novo valor de B é 1<br>\n",
    "A antes -> 1; A agora -> 2<br>\n",
    "B antes -> 2; B agora -> 1\n",
    "\n",
    "\n",
    "- Dados de entrada: A = 12; B = 34\n",
    "- Resultado esperado:<br>\n",
    "O novo valor de A é 34 e o novo valor de B é 12<br>\n",
    "A antes -> 12; A agora -> 34<br>\n",
    "B antes -> 34; B agora -> 12"
   ]
  }
 ],
 "metadata": {
  "kernelspec": {
   "display_name": "Python 3",
   "language": "python",
   "name": "python3"
  },
  "language_info": {
   "codemirror_mode": {
    "name": "ipython",
    "version": 3
   },
   "file_extension": ".py",
   "mimetype": "text/x-python",
   "name": "python",
   "nbconvert_exporter": "python",
   "pygments_lexer": "ipython3",
   "version": "3.10.13"
  }
 },
 "nbformat": 4,
 "nbformat_minor": 2
}
