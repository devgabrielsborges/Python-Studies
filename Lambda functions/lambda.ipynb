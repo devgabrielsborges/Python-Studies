{
 "cells": [
  {
   "cell_type": "markdown",
   "metadata": {},
   "source": [
    "## Funções Lambda\n",
    "\n",
    "As funções lambda são pequenas funções anônimas em Python que são definidas usando a palavra-chave 'lambda'. Elas são significativamente diferentes das funções regulares definidas usando a palavra-chave 'def'. A diferença crucial é que as funções lambda podem receber qualquer número de argumentos, mas só podem ter uma expressão. Além disso, as funções lambda não precisam de um nome explicitamente definido, pois são anônimas.\n",
    "\n",
    "As funções lambda são úteis em várias situações, especialmente quando você precisa de uma função pequena e descartável para uso de curto prazo. Por exemplo, elas são muitas vezes usadas em conjunto com funções como `map()`, `filter()` e `reduce()`, que aceitam uma função como um argumento.\n",
    "\n",
    "Considerando o seu uso, as funções lambda são uma parte essencial da programação funcional. Eles tendem a tornar o código mais conciso e legível, especialmente quando usados corretamente. No entanto, como as funções lambda são limitadas a uma única expressão, elas são menos poderosas do que as funções regulares."
   ]
  },
  {
   "cell_type": "markdown",
   "metadata": {},
   "source": [
    "Aqui está um exemplo de como uma função lambda pode ser usada:"
   ]
  },
  {
   "cell_type": "code",
   "execution_count": 1,
   "metadata": {},
   "outputs": [
    {
     "name": "stdout",
     "output_type": "stream",
     "text": [
      "[1, 4, 9, 16, 25]\n"
     ]
    }
   ],
   "source": [
    "numbers = [1, 2, 3, 4, 5]\n",
    "squared = map(lambda x: x**2, numbers)\n",
    "print(list(squared))  # Output: [1, 4, 9, 16, 25]\n",
    "\n",
    "# pega todos os itens da lista e eleva ao quadrado"
   ]
  },
  {
   "cell_type": "markdown",
   "metadata": {},
   "source": [
    "Neste exemplo, a função lambda é usada com a função map() para quadrar todos os números em uma lista. Note que a função lambda lambda x: x**2 é passada como o primeiro argumento para map(). Esta função lambda pega um argumento x e retorna o quadrado de x."
   ]
  },
  {
   "cell_type": "markdown",
   "metadata": {},
   "source": [
    "## Como funcionam as funções `map()` `reduce()` e `filter()`\n",
    "\n",
    "### Vamos explorar cada uma dessas funções em mais detalhes:\n",
    "\n",
    "- A função `map()`\n",
    "\n",
    "A função `map()` é uma função integrada em Python que aceita dois ou mais argumentos: uma função e um ou mais iteráveis. A função `map()` aplica a função fornecida a cada item dos iteráveis e retorna um objeto map.\n",
    "\n",
    "Por exemplo, se tivermos uma lista de números e quisermos quadrar cada número da lista, podemos usar a função `map()` em conjunto com uma função lambda:"
   ]
  },
  {
   "cell_type": "code",
   "execution_count": 2,
   "metadata": {},
   "outputs": [
    {
     "name": "stdout",
     "output_type": "stream",
     "text": [
      "[1, 4, 9, 16, 25]\n"
     ]
    }
   ],
   "source": [
    "numbers = [1, 2, 3, 4, 5]\n",
    "squared = map(lambda x: x**2, numbers)\n",
    "print(list(squared))  # Output: [1, 4, 9, 16, 25]\n"
   ]
  },
  {
   "cell_type": "markdown",
   "metadata": {},
   "source": [
    "## A função `reduce()`\n",
    "\n",
    "A função `reduce()` é uma função que pertence ao módulo functools em Python. Ela aceita uma função e uma sequência iterável e, em seguida, aplica a função aos elementos da sequência de maneira cumulativa, de modo a reduzir a sequência a um único valor de saída.\n",
    "\n",
    "Por exemplo, se quisermos usar a função `reduce()` para encontrar o produto de todos os números em uma lista, poderíamos fazer o seguinte:"
   ]
  },
  {
   "cell_type": "code",
   "execution_count": 3,
   "metadata": {},
   "outputs": [
    {
     "name": "stdout",
     "output_type": "stream",
     "text": [
      "120\n"
     ]
    }
   ],
   "source": [
    "from functools import reduce\n",
    "\n",
    "numbers = [1, 2, 3, 4, 5]\n",
    "product = reduce((lambda x, y: x * y), numbers)\n",
    "print(product)  # Output: 120\n"
   ]
  },
  {
   "cell_type": "markdown",
   "metadata": {},
   "source": [
    "## A função `filter()`\n",
    "\n",
    "A função `filter()` constrói uma lista de elementos a partir de uma entrada fornecida para os quais uma função retorna verdadeiro. Basicamente, a função `filter()` filtra os elementos de um iterável com base em uma função.\n",
    "\n",
    "Por exemplo, a seguinte função `filter()` retorna os números pares de uma lista:"
   ]
  },
  {
   "cell_type": "code",
   "execution_count": null,
   "metadata": {},
   "outputs": [],
   "source": []
  }
 ],
 "metadata": {
  "kernelspec": {
   "display_name": "Python 3",
   "language": "python",
   "name": "python3"
  },
  "language_info": {
   "codemirror_mode": {
    "name": "ipython",
    "version": 3
   },
   "file_extension": ".py",
   "mimetype": "text/x-python",
   "name": "python",
   "nbconvert_exporter": "python",
   "pygments_lexer": "ipython3",
   "version": "3.12.2"
  }
 },
 "nbformat": 4,
 "nbformat_minor": 2
}
