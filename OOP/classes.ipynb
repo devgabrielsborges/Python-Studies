{
 "cells": [
  {
   "cell_type": "markdown",
   "metadata": {},
   "source": [
    "## OOP: Classes & Objects"
   ]
  },
  {
   "cell_type": "code",
   "execution_count": 1,
   "metadata": {},
   "outputs": [],
   "source": [
    "class pessoa:\n",
    "\n",
    "    curso = 'Eng-Computação'   # variável que não pode ser alterada indivdualmente\n",
    "\n",
    "    def __init__(self, nome, genero, idade):   # inicialização da classe\n",
    "        # atributos da classe\n",
    "        self.nome = nome\n",
    "        self.genero = genero\n",
    "        self.idade = idade\n",
    "\n",
    "\n",
    "    # exemplo de método\n",
    "    def dobrarIdade(self):\n",
    "        self.idade += self.idade"
   ]
  },
  {
   "cell_type": "code",
   "execution_count": 2,
   "metadata": {},
   "outputs": [
    {
     "name": "stdout",
     "output_type": "stream",
     "text": [
      "Gabriel\n",
      "<class 'str'>\n"
     ]
    }
   ],
   "source": [
    "gabriel = pessoa('Gabriel', 'Masculino', 18)\n",
    "print(gabriel.nome)\n",
    "print(type(gabriel.nome))"
   ]
  },
  {
   "cell_type": "code",
   "execution_count": 3,
   "metadata": {},
   "outputs": [
    {
     "name": "stdout",
     "output_type": "stream",
     "text": [
      "36\n"
     ]
    }
   ],
   "source": [
    "gabriel.dobrarIdade()\n",
    "print(gabriel.idade)"
   ]
  },
  {
   "cell_type": "code",
   "execution_count": 5,
   "metadata": {},
   "outputs": [],
   "source": [
    "class ContaCorrente:\n",
    "    def __init__(self, nome, cpf):\n",
    "        self.nome = nome\n",
    "        self.cpf = cpf\n",
    "        self.saldo = 0\n",
    "\n",
    "    def consultar_saldo(self):\n",
    "        print(f'Seu saldo atual é de R${(self.saldo):,.2f}')"
   ]
  },
  {
   "cell_type": "code",
   "execution_count": 6,
   "metadata": {},
   "outputs": [
    {
     "name": "stdout",
     "output_type": "stream",
     "text": [
      "Seu saldo atual é de R$0.00\n"
     ]
    }
   ],
   "source": [
    "conta_gabriel = ContaCorrente('Gabriel', '111.222.333-45')\n",
    "conta_gabriel.consultar_saldo()"
   ]
  },
  {
   "cell_type": "code",
   "execution_count": 7,
   "metadata": {},
   "outputs": [],
   "source": [
    "class AlunoCalouro:\n",
    "    \n",
    "    periodo = 1   # static atribute\n",
    "    \n",
    "    # construtor da classe\n",
    "    def __init__(self, nome : str, CPF : str, curso : str):\n",
    "        self.nome = nome\n",
    "        self.CPF = CPF\n",
    "        self.curso = curso\n",
    "        self.blocado = True\n",
    "        self.faltas = 0\n",
    "        self.reprovado = False\n",
    "    \n",
    "    def _checar_faltas(self):   # static method\n",
    "        if self.faltas > 7:\n",
    "            self.reprovado = True\n",
    "            return self.reprovado\n",
    "        else:\n",
    "            return self.reprovado\n",
    "\n",
    "    def adicionar_falta(self, n_faltas : int):\n",
    "        self.faltas += n_faltas\n",
    "        if self._checar_faltas():\n",
    "            print(\"Automaticamente reprovado por faltas\")\n",
    "    \n",
    "    def passar_periodo(self):\n",
    "        if self._checar_faltas():\n",
    "            print('Aluno reprovado por faltas')\n",
    "        else:\n",
    "            nova_conta = AlunoVeterano(self.nome, self.CPF, self.curso, 2)\n",
    "            return nova_conta"
   ]
  },
  {
   "cell_type": "code",
   "execution_count": 10,
   "metadata": {},
   "outputs": [],
   "source": [
    "class AlunoVeterano:\n",
    "    \n",
    "    # construtor da classe\n",
    "    def __init__(self, nome : str, CPF : str, curso : str, periodo : int):\n",
    "        self.nome = nome\n",
    "        self.__CPF = CPF   # atributos iniciados com __ só podem ser acessados dentro da classe, fora da classe são inacessíveis\n",
    "        self.curso = curso\n",
    "        self.blocado = None\n",
    "        self._faltas = 0   # atributos iniciados com _ indicam que os mesmos só devem ser manipulados por métodos da classe\n",
    "        self.reprovado = None\n",
    "        self.periodo = periodo\n",
    "    \n",
    "    def _checar_faltas(self):   # private method\n",
    "        if self.faltas > 7:\n",
    "            self.reprovado = True\n",
    "            return self.reprovado\n",
    "        else:\n",
    "            return self.reprovado\n",
    "    \n",
    "    def adicionar_falta(self, n_faltas : int):\n",
    "        self.faltas += n_faltas\n",
    "        if self._checar_faltas():\n",
    "            print(\"Automaticamente reprovado por faltas\")\n",
    "    \n",
    "    def passar_periodo(self):\n",
    "        if self._checar_faltas(self):\n",
    "            print('Aluno reprovado por faltas')\n",
    "        else:\n",
    "            self.periodo += 1\n",
    "        \n",
    "    def trancar_curso(self):\n",
    "        self.blocado = False\n",
    "    \n",
    "    @staticmethod\n",
    "    def alo_poli():\n",
    "        print(\"Hello Poli!!\")"
   ]
  },
  {
   "cell_type": "code",
   "execution_count": 9,
   "metadata": {},
   "outputs": [],
   "source": [
    "# self._faltas = 0   # atributos iniciados com _ indicam que os mesmos só devem ser manipulados pela própria classe\n",
    "\n",
    "# atributos iniciados com __ só podem ser acessados dentro da classe, fora da classe são inacessíveis\n",
    "\n"
   ]
  },
  {
   "cell_type": "code",
   "execution_count": 18,
   "metadata": {},
   "outputs": [],
   "source": [
    "class cliente:\n",
    "    def __init__(self, nome, cpf):\n",
    "        self.nome = nome\n",
    "        self.__cpf = cpf\n",
    "        self.saldo = None\n",
    "        self.agencia = None\n",
    "        self.conta = None\n",
    "        self.cartoes = []\n",
    "\n",
    "class cartaoCredito:\n",
    "    def __init__(self, cliente):\n",
    "        self.titular = cliente.nome\n",
    "        self.numero_cartao = None\n",
    "        self.cvv = None\n",
    "        self.vencimento = None\n",
    "        self.limite = None\n"
   ]
  },
  {
   "cell_type": "code",
   "execution_count": 19,
   "metadata": {},
   "outputs": [
    {
     "data": {
      "text/plain": [
       "'\\nMétodos getter servem para fazer consulta de valores\\n\\nMétodos setter servem para ‘setar’ valores\\n'"
      ]
     },
     "execution_count": 19,
     "metadata": {},
     "output_type": "execute_result"
    }
   ],
   "source": [
    "class cartaoCredito:\n",
    "    def __init__(self, cliente):\n",
    "        self.titular = cliente.nome\n",
    "        self.__numero_cartao = 123345567\n",
    "        self.__cvv = 123\n",
    "        self.__vencimento = 2808\n",
    "        self.limite = 1039.45\n",
    "        cliente._cartoes.append(self)   # adicionando obj cartaoCredito à obj cliente\n",
    "\n",
    "\"\"\"\n",
    "Métodos getter servem para fazer consulta de valores\n",
    "\n",
    "Métodos setter servem para ‘setar’ valores\n",
    "\"\"\""
   ]
  },
  {
   "cell_type": "code",
   "execution_count": 20,
   "metadata": {},
   "outputs": [
    {
     "name": "stdout",
     "output_type": "stream",
     "text": [
      "Gabriel\n",
      "2986\n"
     ]
    }
   ],
   "source": [
    "import pytz\n",
    "from random import randint\n",
    "from datetime import datetime\n",
    "\n",
    "class cartaoCredito:\n",
    "    \n",
    "    @staticmethod   # função para uso apenas da classe\n",
    "    def _data_hora():\n",
    "        fuso_BR = pytz.timezone(\"Brazil/East\")\n",
    "        horario_BR = datetime.now(fuso_BR)\n",
    "        return horario_BR\n",
    "\n",
    "\n",
    "    def __init__(self, cliente):\n",
    "        self.titular = cliente.nome\n",
    "        self.__numero_cartao = randint(1000000000000000,9999999999999999)\n",
    "        self.__cvv = 123\n",
    "        self.__vencimento = f'{cartaoCredito._data_hora().month}{cartaoCredito._data_hora().year + 5}'\n",
    "        self._limite = 1039.45\n",
    "        self._senha = '1234'\n",
    "        cliente.cartoes.append(self)   # adicionando obj cartaoCredito à obj cliente\n",
    "    \n",
    "    @property   # método get da senha \n",
    "    def senha(self):\n",
    "        return self._senha\n",
    "    \n",
    "    @senha.setter\n",
    "    def senha(self, valor):\n",
    "        if len(valor) == 4 and valor.isnumeric():\n",
    "            self._senha = valor\n",
    "        else:\n",
    "            raise 'Senha inválida com formato inválido'\n",
    "\n",
    "contaGabriel = cliente('Gabriel', '111-222-333-45')\n",
    "cartaoGabriel = cartaoCredito(contaGabriel)\n",
    "\n",
    "print(contaGabriel.nome)\n",
    "cartaoGabriel.senha = '2986'\n",
    "print(cartaoGabriel.senha)"
   ]
  },
  {
   "cell_type": "code",
   "execution_count": 21,
   "metadata": {},
   "outputs": [
    {
     "name": "stdout",
     "output_type": "stream",
     "text": [
      "{'nome': 'Gabriel', '_cliente__cpf': '111-222-333-45', 'saldo': None, 'agencia': None, 'conta': None, 'cartoes': [<__main__.cartaoCredito object at 0x0000019E40E5C110>]}\n"
     ]
    }
   ],
   "source": [
    "print(contaGabriel.__dict__)   # retorna dicionário com chaves e valores da classe"
   ]
  },
  {
   "cell_type": "markdown",
   "metadata": {},
   "source": [
    "### Herança de classes e polimorfismo"
   ]
  },
  {
   "cell_type": "code",
   "execution_count": 22,
   "metadata": {},
   "outputs": [],
   "source": [
    "# classe mother\n",
    "class Agencia:\n",
    "    def __init__(self, numero, cnpj, telefone):\n",
    "        self.numero = numero\n",
    "        self.cnpj = cnpj\n",
    "        self.telefone = telefone\n",
    "        self.clientes = []\n",
    "        self._caixa = 1000000\n",
    "        self.emprestimos = []\n",
    "    \n",
    "    def verificar_caixa(self):\n",
    "        if self._caixa < 1000000:\n",
    "            print(f'Caixa com saldo abaixo do recomendado. Caixa atual {self._caixa}')\n",
    "        else:\n",
    "            print(f'Caixa atual {self._caixa}')\n",
    "    \n",
    "    def emprestar_dinheiro(self, valor, cpf, juros):\n",
    "        if self._caixa > valor:\n",
    "            self.emprestimos.append((valor, cpf, juros))\n",
    "\n",
    "    def adicionar_cliente(self, nome, cpf, saldo):\n",
    "        self.clientes.append((nome, cpf, saldo))\n",
    "\n",
    "    @property\n",
    "    def caixa(self):\n",
    "        return self._caixa\n",
    "    \n",
    "    @caixa.setter\n",
    "    def caixa(self, valor):\n",
    "        self._caixa = valor if valor > 1000000 else print('Valor inválido') \n"
   ]
  },
  {
   "cell_type": "code",
   "execution_count": 23,
   "metadata": {},
   "outputs": [
    {
     "name": "stdout",
     "output_type": "stream",
     "text": [
      "Caixa atual 1000000\n",
      "None\n",
      "[(10000, 11122233345, 4.5)]\n",
      "[('Gabriel', 11122233345, 10000)]\n"
     ]
    }
   ],
   "source": [
    "agencia1 = Agencia(1111, 123123123, 5050)\n",
    "print(agencia1.verificar_caixa())\n",
    "\n",
    "agencia1.emprestar_dinheiro(10000, 11122233345, 4.5)\n",
    "print(agencia1.emprestimos)\n",
    "\n",
    "agencia1.adicionar_cliente('Gabriel', 11122233345, 10000)\n",
    "print(agencia1.clientes)"
   ]
  },
  {
   "cell_type": "code",
   "execution_count": 24,
   "metadata": {},
   "outputs": [],
   "source": [
    "class AgenciaVirtual(Agencia):   # AgenciaVirtual como subclasse de Agencia | Child | Herança de métodos\n",
    "\n",
    "    # para adicionar parâmetros ao init, e herdar init da classe mãe\n",
    "    def __init__(self, site, cnpj, telefone):\n",
    "        self.site = site \n",
    "        # \"Preenchendo\" valores na classe mãe para herdar\n",
    "        super().__init__(1010, cnpj, telefone)   # rodando o método init da classe mãe para herdar métodos e atributos\n",
    "        self.caixa = 20202312332\n"
   ]
  },
  {
   "cell_type": "code",
   "execution_count": 25,
   "metadata": {},
   "outputs": [
    {
     "name": "stdout",
     "output_type": "stream",
     "text": [
      "Caixa atual 20202312332\n",
      "None\n"
     ]
    }
   ],
   "source": [
    "agencia_virtual = AgenciaVirtual('www.agencia1.gov.br', 1231231423, 3837438345)\n",
    "print(agencia_virtual.verificar_caixa())"
   ]
  },
  {
   "cell_type": "code",
   "execution_count": 26,
   "metadata": {},
   "outputs": [],
   "source": [
    "class AgenciaComum(Agencia):\n",
    "    def __init__(self, endereco, cep, numero=randint(100000, 999999), cnpj=randint(10000000, 99999999), telefone=randint(1000000, 9999999)):\n",
    "        super().__init__(numero, cnpj, telefone)\n",
    "        self.endereco = endereco\n",
    "        self.cep = cep\n",
    "        self._caixa = 10000000"
   ]
  },
  {
   "cell_type": "code",
   "execution_count": 28,
   "metadata": {},
   "outputs": [],
   "source": [
    "class AgenciaPremium(Agencia):\n",
    "    def __init__(self, numero=randint(100000, 999999), cnpj=randint(10000000, 99999999), telefone=randint(1000000, 9999999)):\n",
    "        super().__init__(numero, cnpj, telefone)\n",
    "        self._crediario_vip = []\n",
    "        self._caixa = 20303040123231"
   ]
  },
  {
   "cell_type": "code",
   "execution_count": 29,
   "metadata": {},
   "outputs": [
    {
     "name": "stdout",
     "output_type": "stream",
     "text": [
      "VIPVIPVIPVIPVIPVIPVIPVIPVIPVIP\n",
      "20303040123231\n"
     ]
    }
   ],
   "source": [
    "agencia_premium = AgenciaPremium()\n",
    "print('VIP' * 10)\n",
    "print(agencia_premium.caixa)"
   ]
  },
  {
   "cell_type": "markdown",
   "metadata": {},
   "source": [
    "## Modificando comportamentos da classe mãe"
   ]
  },
  {
   "cell_type": "code",
   "execution_count": 30,
   "metadata": {},
   "outputs": [],
   "source": [
    "class AgenciaPremium(Agencia):\n",
    "    def __init__(self, numero=randint(100000, 999999), cnpj=randint(10000000, 99999999), telefone=randint(1000000, 9999999)):\n",
    "        super().__init__(numero, cnpj, telefone)\n",
    "        self._crediario_vip = []\n",
    "        self._caixa = 20303040123231\n",
    "    \n",
    "    def adicionar_cliente(self, nome, cpf, saldo):\n",
    "        if saldo > 1000000:\n",
    "            super().adicionar_cliente(nome, cpf, saldo)   # evita que mudanças na classe mãe afetem a classe child\n",
    "        else:\n",
    "            pass\n"
   ]
  },
  {
   "cell_type": "markdown",
   "metadata": {},
   "source": [
    "Nesse exemplo, a classe mãe Agencia possui o método adicionar_cliente( ), logo a classe child AgenciaPremium(Agencia) também possui, porém, para esse tipo de agência, há uma regra de só adicionar clientes com saldo superior a 1.000.000. Para tanto, é criada uma estrutura condicional, que roda a funçaõ da classe mãe dentro da classe child se a condição for atendida."
   ]
  },
  {
   "cell_type": "code",
   "execution_count": 31,
   "metadata": {},
   "outputs": [],
   "source": [
    "class Hospital:\n",
    "    \n",
    "    def __init__(self, endereco, especialidade=None, tipo='Público'):\n",
    "        self.endereco = endereco\n",
    "        self.especialidade = especialidade\n",
    "        self.tipo = tipo\n",
    "    \n",
    "        self.__caixa = 10000000\n",
    "        self.__funcionarios = []\n",
    "        self._inventario = {}\n",
    "\n",
    "    @property\n",
    "    def caixa(self):\n",
    "        if self.__caixa > 10000:\n",
    "            return f'Caixa atual é de {self.__caixa}'\n",
    "        else:\n",
    "            return f'Caixa em nível crítico. Caixa atual {self.__caixa}'\n",
    "\n",
    "    @caixa.setter\n",
    "    def caixa(self, valor):\n",
    "        if valor > 0:\n",
    "            self.__caixa += valor\n",
    "\n",
    "    @property\n",
    "    def funcionarios(self):\n",
    "        return self.__funcionarios\n",
    "    \n",
    "    def adicionar_funcionario(self, funcionario):\n",
    "        if type(funcionario) == tuple:\n",
    "            self.__funcionarios.append(funcionario)\n",
    "    \n"
   ]
  },
  {
   "cell_type": "code",
   "execution_count": null,
   "metadata": {},
   "outputs": [],
   "source": []
  }
 ],
 "metadata": {
  "kernelspec": {
   "display_name": "Python 3",
   "language": "python",
   "name": "python3"
  },
  "language_info": {
   "codemirror_mode": {
    "name": "ipython",
    "version": 3
   },
   "file_extension": ".py",
   "mimetype": "text/x-python",
   "name": "python",
   "nbconvert_exporter": "python",
   "pygments_lexer": "ipython3",
   "version": "3.10.13"
  }
 },
 "nbformat": 4,
 "nbformat_minor": 2
}
