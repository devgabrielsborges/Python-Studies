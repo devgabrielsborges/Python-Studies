{
 "cells": [
  {
   "cell_type": "markdown",
   "metadata": {},
   "source": [
    "## Integração Python + .txt\n",
    "\n",
    "Python tem um módulo embutido chamado `open()` que é usado para abrir um arquivo em diferentes modos, como leitura ('r'), gravação ('w') e adição ('a').\n",
    "\n",
    "Aqui estão alguns exemplos de como você pode usar o módulo `open()`:"
   ]
  },
  {
   "cell_type": "code",
   "execution_count": 5,
   "metadata": {},
   "outputs": [
    {
     "name": "stdout",
     "output_type": "stream",
     "text": [
      "\n",
      "Olá, mundo!\n"
     ]
    }
   ],
   "source": [
    "# Abrindo um arquivo .txt para leitura ('r')\n",
    "arquivo = open('exemplo.txt', 'r')\n",
    "conteudo = arquivo.read()\n",
    "print(conteudo)\n",
    "arquivo.close()\n"
   ]
  },
  {
   "cell_type": "markdown",
   "metadata": {},
   "source": [
    "Neste exemplo, o arquivo 'exemplo.txt' é aberto no modo de leitura ('r'). O método .read() é usado para ler todo o conteúdo do arquivo e armazená-lo na variável conteudo. Após a leitura, o arquivo é fechado usando o método .close()."
   ]
  },
  {
   "cell_type": "code",
   "execution_count": 6,
   "metadata": {},
   "outputs": [
    {
     "name": "stdout",
     "output_type": "stream",
     "text": [
      "\n",
      "Olá, mundo!\n"
     ]
    }
   ],
   "source": [
    "# Escrevendo em um arquivo .txt ('w')\n",
    "arquivo = open('exemplo.txt', 'w')\n",
    "arquivo.write(\"\\nOlá, mundo!\")\n",
    "arquivo.close()\n",
    "print(conteudo)\n"
   ]
  },
  {
   "cell_type": "markdown",
   "metadata": {},
   "source": [
    "Aqui, o arquivo 'exemplo.txt' é aberto no modo de escrita ('w'). O método .write() é usado para escrever a string \"Olá, mundo!\" no arquivo. Em seguida, o arquivo é fechado."
   ]
  },
  {
   "cell_type": "code",
   "execution_count": 7,
   "metadata": {},
   "outputs": [],
   "source": [
    "# Adicionando conteúdo a um arquivo .txt existente ('a')\n",
    "arquivo = open('exemplo.txt', 'a')\n",
    "arquivo.write(\"\\\\nAdicionando mais conteúdo\")\n",
    "arquivo.close()\n"
   ]
  },
  {
   "cell_type": "code",
   "execution_count": 18,
   "metadata": {},
   "outputs": [
    {
     "name": "stdout",
     "output_type": "stream",
     "text": [
      "Acabei\n"
     ]
    }
   ],
   "source": [
    "# método with abre e fecha o arquivo automaticamente\n",
    "\n",
    "with open('withpy.txt', 'w') as arquivo:\n",
    "    arquivo.write('helloo')\n",
    "print('Acabei')"
   ]
  },
  {
   "cell_type": "markdown",
   "metadata": {},
   "source": [
    "Neste último exemplo, o arquivo 'exemplo.txt' é aberto no modo de adição ('a'). O método .write() é usado para adicionar a string \"Adicionando mais conteúdo\" ao final do arquivo. Em seguida, o arquivo é fechado."
   ]
  },
  {
   "cell_type": "markdown",
   "metadata": {},
   "source": [
    "Lembre-se de fechar sempre o arquivo após a leitura ou escrita. Isso é uma boa prática e evita o consumo desnecessário de recursos."
   ]
  },
  {
   "cell_type": "markdown",
   "metadata": {},
   "source": [
    "## Integração Python + .pdf"
   ]
  },
  {
   "cell_type": "markdown",
   "metadata": {},
   "source": [
    "Para trabalhar com arquivos PDF em Python, você pode usar o módulo PyPDF2."
   ]
  },
  {
   "cell_type": "markdown",
   "metadata": {},
   "source": [
    "Aqui estão alguns exemplos de como você pode usar o PyPDF2:"
   ]
  },
  {
   "cell_type": "code",
   "execution_count": null,
   "metadata": {},
   "outputs": [],
   "source": [
    "import PyPDF2\n",
    "\n",
    "# Abrindo um arquivo .pdf para leitura\n",
    "pdf_arquivo = open('Folha de Pagamento da Empresa Fictícia XYZ.pdf', 'rb') # 'rb' para leitura binária\n",
    "pdf_leitor = PyPDF2.PdfReader(pdf_arquivo)\n",
    "pagina = pdf_leitor.pages[0] # obtendo a primeira página\n",
    "print(pagina.extract_text()) # extraindo o texto da primeira página\n",
    "pdf_arquivo.close()\n"
   ]
  },
  {
   "cell_type": "markdown",
   "metadata": {},
   "source": [
    "Neste exemplo, o arquivo é aberto para leitura no modo binário ('rb'). O objeto PdfReader é criado a partir do arquivo e usado para obter a primeira página do PDF. O método .extract_text() é então usado para extrair o texto da primeira página e imprimi-lo. Finalmente, o arquivo é fechado."
   ]
  },
  {
   "cell_type": "code",
   "execution_count": 16,
   "metadata": {},
   "outputs": [],
   "source": [
    "# Escrevendo em um arquivo .pdf\n",
    "pdf_arquivo = open('Folha de Pagamento da Empresa Fictícia XYZ.pdf', 'rb')\n",
    "pdf_leitor = PyPDF2.PdfReader(pdf_arquivo)\n",
    "pdf_escritor = PyPDF2.PdfWriter()\n",
    "\n",
    "# Adicionando todas as páginas do arquivo original para o novo arquivo\n",
    "for pagina_num in range(len(pdf_escritor.pages)):\n",
    "    pagina = pdf_leitor.pages[pagina_num]\n",
    "    pdf_escritor.addPage(pagina)\n",
    "\n",
    "# Criando um novo arquivo .pdf\n",
    "novo_pdf = open('novo_exemplo.pdf', 'wb')\n",
    "pdf_escritor.write(novo_pdf)\n",
    "novo_pdf.close()\n",
    "pdf_arquivo.close()\n"
   ]
  },
  {
   "cell_type": "markdown",
   "metadata": {},
   "source": [
    "Neste exemplo, um arquivo é aberto para leitura e um objeto PdfReader é criado a partir dele. Um objeto PdfWriter é então criado para escrever em um novo arquivo PDF. Todas as páginas do arquivo original são adicionadas ao novo arquivo usando o método .addPage(). Em seguida, o novo arquivo é escrito e fechado, assim como o arquivo original."
   ]
  },
  {
   "cell_type": "markdown",
   "metadata": {},
   "source": [
    "Ao trabalhar com arquivos .pdf, lembre-se de que a leitura e a escrita são feitas no modo binário (rb e wb), o que é diferente de trabalhar com arquivos .txt."
   ]
  },
  {
   "cell_type": "markdown",
   "metadata": {},
   "source": [
    "## Extraindo imagens de um PDF"
   ]
  },
  {
   "cell_type": "code",
   "execution_count": null,
   "metadata": {},
   "outputs": [],
   "source": [
    "import pikepdf\n",
    "from pikepdf import Pdf, PdfImage   # importando módulos de pdf e imagens\n",
    "\n",
    "arquivo = Pdf.open(r\"Dados\\MGLU_RAD_2023_POR.pdf\")   # método para leitura de arquivo\n",
    "\n",
    "for pagina in arquivo.pages:   # para cada página dentro do arquivo\n",
    "    for nome, imagem in pagina.images.items():   # para cada imagem(nome, self) na página\n",
    "        imagem_salvar = PdfImage(imagem)   # PdfImage é uma classe que armazena as informações da imagem\n",
    "        imagem_salvar.extract_to(fileprefix=f\"imagens/{nome}\")   # salvando arquivo da imagem no diretório"
   ]
  },
  {
   "cell_type": "code",
   "execution_count": null,
   "metadata": {},
   "outputs": [],
   "source": []
  }
 ],
 "metadata": {
  "kernelspec": {
   "display_name": "Python 3",
   "language": "python",
   "name": "python3"
  },
  "language_info": {
   "codemirror_mode": {
    "name": "ipython",
    "version": 3
   },
   "file_extension": ".py",
   "mimetype": "text/x-python",
   "name": "python",
   "nbconvert_exporter": "python",
   "pygments_lexer": "ipython3",
   "version": "3.12.2"
  }
 },
 "nbformat": 4,
 "nbformat_minor": 2
}
