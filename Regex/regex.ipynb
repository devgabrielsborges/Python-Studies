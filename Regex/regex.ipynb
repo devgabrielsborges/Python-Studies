{
 "cells": [
  {
   "cell_type": "markdown",
   "metadata": {},
   "source": [
    "## Operadores\n",
    "\n",
    "- ‘[ ]’ —> conjunto de caracteres\n",
    "- \\ —> sequência especial de caracteres\n",
    "- ^ —> buscar elementos no início de uma string\n",
    "- $ —> buscar elementos no final de uma string\n",
    "- '*' —> buscar zero ou mais repeticoes dentro de uma substring\n",
    "- '+' —> buscar zero ou mais repetições de uma substring —> agrupa até ser interrompido por outro caractere\n",
    "- ? —> zero ou uma aparição —> é utilizado após os caractere\n",
    "- {} —> quantidade específica de caracteres\n",
    "- '[^]' —> diferente de um caractere especificado logo após o ^\n",
    "- ( )  —> apenas para agrupar regrar e definir ordem de aplicação (igual matemática)"
   ]
  },
  {
   "cell_type": "markdown",
   "metadata": {},
   "source": [
    "## Especificando caracteres\n",
    "\n",
    "- . —> qualquer caractere\n",
    "- \\d —> qualquer dígito\n",
    "- \\D —> não é dígito\n",
    "- \\w —> qualquer alfanumérico\n",
    "- \\W —> não é alfanumérico\n",
    "- \\s —> espaço em branco\n",
    "- \\S —> não é espaço em branco"
   ]
  },
  {
   "cell_type": "code",
   "execution_count": 1,
   "metadata": {},
   "outputs": [
    {
     "name": "stdout",
     "output_type": "stream",
     "text": [
      "found word:cat\n"
     ]
    }
   ],
   "source": [
    "import re\n",
    "\n",
    "str = 'an example word:cat!!'\n",
    "match = re.search(r'word:\\w\\w\\w', str)\n",
    "# If-statement after search() tests if it succeeded\n",
    "if match:\n",
    "  print('found', match.group()) ## 'found word:cat'\n",
    "else:\n",
    "  print('did not find')"
   ]
  },
  {
   "cell_type": "code",
   "execution_count": 2,
   "metadata": {},
   "outputs": [
    {
     "name": "stdout",
     "output_type": "stream",
     "text": [
      "match word:dog\n"
     ]
    }
   ],
   "source": [
    "str = 'an exemple word:dog!!'\n",
    "match = re.search(r'word:\\w\\w\\w', str)   # especifica o pattern e a variável a ser analisada  --> re.search(pat, str)\n",
    "if match:\n",
    "    print(f'match {match.group()}')   # found word:dog\n",
    "else:\n",
    "    print(\"didn't find\")\n",
    "    "
   ]
  },
  {
   "cell_type": "code",
   "execution_count": 3,
   "metadata": {},
   "outputs": [],
   "source": [
    "  ## Search for pattern 'iii' in string 'piiig'.\n",
    "  ## All of the pattern must match, but it may appear anywhere.\n",
    "  ## On success, match.group() is matched text.\n",
    "  match = re.search(r'iii', 'piiig') # found, match.group() == \"iii\"\n",
    "  match = re.search(r'igs', 'piiig') # not found, match == None\n",
    "\n",
    "  ## . = any char but \\n\n",
    "  match = re.search(r'..g', 'piiig') # found, match.group() == \"iig\"\n",
    "\n",
    "  ## \\d = digit char, \\w = word char\n",
    "  match = re.search(r'\\d\\d\\d', 'p123g') # found, match.group() == \"123\"\n",
    "  match = re.search(r'\\w\\w\\w', '@@abcd!!') # found, match.group() == \"abc\""
   ]
  },
  {
   "cell_type": "code",
   "execution_count": 4,
   "metadata": {},
   "outputs": [
    {
     "data": {
      "text/plain": [
       "['comida', 'comida', 'comida']"
      ]
     },
     "metadata": {},
     "output_type": "display_data"
    },
    {
     "data": {
      "text/plain": [
       "3"
      ]
     },
     "metadata": {},
     "output_type": "display_data"
    }
   ],
   "source": [
    "texto = 'Eu amo comida comida comida'\n",
    "padrao = re.compile(\"comida\")   # estabelece padrão\n",
    "resultado = re.findall(padrao, texto)   # lista com as correspondências\n",
    "display(resultado)\n",
    "display(len(resultado))"
   ]
  },
  {
   "cell_type": "code",
   "execution_count": 5,
   "metadata": {},
   "outputs": [
    {
     "data": {
      "text/plain": [
       "<re.Match object; span=(7, 13), match='comida'>"
      ]
     },
     "metadata": {},
     "output_type": "display_data"
    }
   ],
   "source": [
    "texto = 'Eu amo comida comida comida'\n",
    "padrao = re.compile(\"comida\")   # estabelece padrão\n",
    "resultado = re.search(padrao, texto)   # lista com as correspondências\n",
    "display(resultado)   # objeto + primeira posição(x1,x2)"
   ]
  },
  {
   "cell_type": "code",
   "execution_count": 6,
   "metadata": {},
   "outputs": [
    {
     "name": "stdout",
     "output_type": "stream",
     "text": [
      "Há 5 cifrões\n"
     ]
    }
   ],
   "source": [
    "# para caracteres especiais, como '$' \n",
    "# é necessário utilizar uma contra-barra antes do caractere especial para buscar pelo caractere em si\n",
    "\n",
    "texto = '1$ 2$ 3$ 4$ 5$'\n",
    "padrao = re.compile(r\"\\$\")\n",
    "resultado = re.findall(padrao, texto)\n",
    "print(f'Há {len(resultado)} cifrões')"
   ]
  },
  {
   "cell_type": "markdown",
   "metadata": {},
   "source": [
    "### É recomendável utilizar raw strings —> r’  ’ Evita execução de comandos indesejados"
   ]
  },
  {
   "cell_type": "markdown",
   "metadata": {},
   "source": [
    "## Buscando números"
   ]
  },
  {
   "cell_type": "code",
   "execution_count": 7,
   "metadata": {},
   "outputs": [
    {
     "name": "stdout",
     "output_type": "stream",
     "text": [
      "['18', '18', '16', '990'] 4\n"
     ]
    }
   ],
   "source": [
    "str = 'Gabriel tem 18 anos. Pedro tem 18 anos. Mathias tem 16 anos. Gentil tem 990 anos'\n",
    "\n",
    "padrao = re.compile(r'\\d+')\n",
    "analise = re.findall(padrao, str)\n",
    "print(analise, len(analise))"
   ]
  },
  {
   "cell_type": "code",
   "execution_count": 8,
   "metadata": {},
   "outputs": [
    {
     "name": "stdout",
     "output_type": "stream",
     "text": [
      "['37,98', '02,98'] --> foram encontrados 2 números\n"
     ]
    }
   ],
   "source": [
    "str_float = 'Cordas custam R$37,98. Teclados custam R$99.87. Garrafas custam R$02,98. E eu tenho 18 anos'\n",
    "\n",
    "padrao = re.compile(r'\\d+,\\d+')   # pega todos os números com decimais com ','\n",
    "analise = re.findall(padrao, str_float)\n",
    "print(f'{analise} --> foram encontrados {len(analise)} números')"
   ]
  },
  {
   "cell_type": "code",
   "execution_count": 9,
   "metadata": {},
   "outputs": [
    {
     "name": "stdout",
     "output_type": "stream",
     "text": [
      "['99.87'] --> foram encontrados 1 números\n"
     ]
    }
   ],
   "source": [
    "str_float = 'Cordas custam R$37,98. Teclados custam R$99.87. Garrafas custam R$02,98. E eu tenho 18 anos'\n",
    "\n",
    "padrao = re.compile(r'\\d+[^,]\\d+')   # pega todos os números com decimais com ' . ' em vez de ' , '\n",
    "analise = re.findall(padrao, str_float)\n",
    "print(f'{analise} --> foram encontrados {len(analise)} números')"
   ]
  },
  {
   "cell_type": "code",
   "execution_count": 10,
   "metadata": {},
   "outputs": [
    {
     "name": "stdout",
     "output_type": "stream",
     "text": [
      "['37,98', '99.87', '02,98', '18'] --> foram encontrados 4 números\n"
     ]
    }
   ],
   "source": [
    "str_float = 'Cordas custam R$37,98. Teclados custam R$99.87. Garrafas custam R$02,98. E eu tenho 18 anos'\n",
    "\n",
    "padrao = re.compile(r'\\d+,?[^,]?\\d+')   # pega todos os números presentes\n",
    "analise = re.findall(padrao, str_float)\n",
    "print(f'{analise} --> foram encontrados {len(analise)} números')"
   ]
  },
  {
   "cell_type": "code",
   "execution_count": 11,
   "metadata": {},
   "outputs": [
    {
     "name": "stdout",
     "output_type": "stream",
     "text": [
      "['NOme', 'aso']\n"
     ]
    }
   ],
   "source": [
    "str_nome = 'Gabriel 0123i12 Souza Borges 0123i12 NOme: aso:'\n",
    "pattern = re.compile(r'(\\w+):')\n",
    "analise = re.findall(pattern, str_nome)   # analise é uma lista que só contem o que foi especificado dentro de ( )\n",
    "print(analise)"
   ]
  },
  {
   "cell_type": "code",
   "execution_count": 12,
   "metadata": {},
   "outputs": [
    {
     "name": "stdout",
     "output_type": "stream",
     "text": [
      "['Gabriel', '182']\n"
     ]
    }
   ],
   "source": [
    "str_nome = 'Gabriel 0123i12 Souza Borges 0123i12 NOme:Gabriel aso:182'\n",
    "pattern = re.compile(r'\\w+:(\\w+)')   # sequencia de alfanuméricos após ':' \\w:(\\w+) \n",
    "analise = re.findall(pattern, str_nome)   # analise é uma lista que só contem o que foi especificado dentro de ( )\n",
    "print(analise)   # nesse caso, analise é uma lista que contem uma sequência de caracteres depois de ':'"
   ]
  },
  {
   "cell_type": "markdown",
   "metadata": {},
   "source": [
    "### Buscando por CPF"
   ]
  },
  {
   "cell_type": "code",
   "execution_count": 13,
   "metadata": {},
   "outputs": [
    {
     "name": "stdout",
     "output_type": "stream",
     "text": [
      "['00032112389']\n"
     ]
    }
   ],
   "source": [
    "str_cpf = r'Nome: Gabriel Sobrenome: Borges CPF:00032112389'\n",
    "pattern = re.compile(r'\\w+:\\s*(\\d{11})')\n",
    "\n",
    "analise = re.findall(pattern, str_cpf)\n",
    "print(analise)   # busca por CPF --> \\s* para lidar com espaços"
   ]
  },
  {
   "cell_type": "code",
   "execution_count": 14,
   "metadata": {},
   "outputs": [
    {
     "name": "stdout",
     "output_type": "stream",
     "text": [
      "['(330 ml)', '(500ml)', '(100ml)']\n"
     ]
    }
   ],
   "source": [
    "str_ml = 'Leite: (330 ml)  Água: (500ml)  Café: (100ml)'\n",
    "\n",
    "pattern = re.compile(r'\\(\\d+\\s?ml\\)')  # buscando pelo caractere '(' e ')' \n",
    "analise = re.findall(pattern, str_ml)\n",
    "print(analise)"
   ]
  },
  {
   "cell_type": "code",
   "execution_count": 15,
   "metadata": {},
   "outputs": [
    {
     "name": "stdout",
     "output_type": "stream",
     "text": [
      "['80.93', '98,93', '98.43', '5']\n"
     ]
    }
   ],
   "source": [
    "precos = 'Mouse = R$ 80.93  Teclado = R$ 98,93 Fone = R$98.43  papel = R$5'\n",
    "\n",
    "analise = re.findall(re.compile(r'R\\$\\s?(\\d+,?[^,]?\\d*)'), precos)  #   --> R$ + espaço ou não + sequência de dígitos + , ou . + um ou mais dígitos\n",
    "print(analise)"
   ]
  },
  {
   "cell_type": "code",
   "execution_count": 16,
   "metadata": {},
   "outputs": [
    {
     "name": "stdout",
     "output_type": "stream",
     "text": [
      "['Fulano', 'Ciclano', 'Beltrano', 'asd']\n"
     ]
    }
   ],
   "source": [
    "nomes = 'Fulano Ciclano Beltrano 123asd43'\n",
    "\n",
    "analise = re.findall(r'[a-zA-Z]+', nomes)   # pegando textos e especificando intervalo de caracteres sem incluir dígitos\n",
    "print(analise)"
   ]
  },
  {
   "cell_type": "code",
   "execution_count": 17,
   "metadata": {},
   "outputs": [
    {
     "name": "stdout",
     "output_type": "stream",
     "text": [
      "<re.Match object; span=(1, 11), match='google.com'>\n",
      "<re.Match object; span=(14, 38), match='https://www.facebook.com'>\n",
      "<re.Match object; span=(41, 65), match='http://www.ecomp.poli.br'>\n",
      "<re.Match object; span=(68, 85), match='www.instagram.com'>\n",
      "<re.Match object; span=(91, 122), match='https://prefeiturarecife.gov.br'>\n",
      "<re.Match object; span=(123, 137), match='www.python.org'>\n"
     ]
    }
   ],
   "source": [
    "sites = \"\"\"\n",
    "google.com  \n",
    "https://www.facebook.com  \n",
    "http://www.ecomp.poli.br  \n",
    "www.instagram.com/user\n",
    "https://prefeiturarecife.gov.br\n",
    "www.python.org\n",
    "\n",
    "lorem ipsum kda rtema\n",
    "sdasf\n",
    "fasfasd\n",
    "\n",
    "\"\"\"\n",
    "\n",
    "analise = re.finditer(r'(https?://)?(www.)?\\w+.(com|com.br|org|poli.br|gov.br)', sites)\n",
    "\n",
    "for item in analise:\n",
    "\n",
    "    print(item)   # ou item.group para valores"
   ]
  },
  {
   "cell_type": "code",
   "execution_count": 2,
   "metadata": {},
   "outputs": [
    {
     "name": "stdout",
     "output_type": "stream",
     "text": [
      "google.com\n",
      "https://www.facebook.com\n",
      "http://www.ecomp.poli.br\n",
      "www.instagram.com\n",
      "https://prefeiturarecife.gov.br\n",
      "www.python.org\n"
     ]
    }
   ],
   "source": [
    "import re\n",
    "sites = \"\"\"\n",
    "google.com  \n",
    "https://www.facebook.com  \n",
    "http://www.ecomp.poli.br  \n",
    "www.instagram.com/user\n",
    "https://prefeiturarecife.gov.br\n",
    "www.python.org\n",
    "\n",
    "lorem ipsum kda rtema\n",
    "sdasf\n",
    "fasfasd\n",
    "\n",
    "\"\"\"\n",
    "\n",
    "analise = re.finditer(r'(https?://)?(www.)?\\w+.(com|com.br|org|poli.br|gov.br)', sites)\n",
    "\n",
    "for item in analise:\n",
    "    print(item.group())"
   ]
  },
  {
   "cell_type": "code",
   "execution_count": null,
   "metadata": {},
   "outputs": [],
   "source": []
  }
 ],
 "metadata": {
  "kernelspec": {
   "display_name": "Python 3",
   "language": "python",
   "name": "python3"
  },
  "language_info": {
   "codemirror_mode": {
    "name": "ipython",
    "version": 3
   },
   "file_extension": ".py",
   "mimetype": "text/x-python",
   "name": "python",
   "nbconvert_exporter": "python",
   "pygments_lexer": "ipython3",
   "version": "3.12.2"
  }
 },
 "nbformat": 4,
 "nbformat_minor": 2
}
