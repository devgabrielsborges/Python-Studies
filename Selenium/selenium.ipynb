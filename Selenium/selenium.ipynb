{
 "cells": [
  {
   "cell_type": "markdown",
   "metadata": {},
   "source": [
    "# Selenium \n",
    "\n",
    "Selenium é uma biblioteca poderosa para a automação de navegadores. É amplamente utilizada para testes automatizados de aplicações web, bem como para web scraping.\n",
    "\n",
    "É uma ferramenta de automação de navegadores web. Com ele, você pode controlar um navegador programaticamente, o que é útil para testes automatizados de interface e tarefas repetitivas, como a extração de dados (web scraping).\n",
    "\n",
    "## Instalação\n",
    "\n",
    "```bash\n",
    "pip install selenium\n",
    "```\n",
    "\n",
    "Além disso, você precisará do WebDriver específico para o navegador que deseja controlar. Por exemplo, para o Chrome, você deve baixar o [ChromeDriver](www.com).\n",
    "\n",
    "### Configurando o WebDriver\n",
    "\n",
    "Após instalar o Selenium e o WebDriver, você pode configurar o WebDriver para iniciar um navegador. Aqui está um exemplo básico usando o Chrome:\n",
    "\n",
    "```python\n",
    "from selenium import webdriver\n",
    "\n",
    "# Caminho para o ChromeDriver\n",
    "driver_path = 'caminho/para/chromedriver'\n",
    "driver = webdriver.Chrome(executable_path=driver_path)\n",
    "\n",
    "# Navegar para uma página\n",
    "driver.get('https://www.google.com')\n",
    "\n",
    "# Fechar o navegador\n",
    "driver.quit()\n",
    "```\n"
   ]
  },
  {
   "cell_type": "markdown",
   "metadata": {},
   "source": [
    "## Principais métodos e funcionalidades:\n",
    "\n",
    "### Navegação\n",
    "- get(url): Navega para a URL especificada.\n",
    "- back(): Volta para a página anterior.\n",
    "- forward(): Avança para a próxima página.\n",
    "- refresh(): Recarrega a página atual.\n",
    "\n",
    "### Interação com Elementos\n",
    "- find_element_by_id(id): Encontra um elemento pelo seu ID.\n",
    "- find_element_by_name(name): Encontra um elemento pelo seu nome.\n",
    "- find_element_by_xpath(xpath): Encontra um elemento pelo seu XPath.\n",
    "- find_element_by_css_selector(selector): Encontra um elemento pelo seu seletor CSS.\n",
    "- click(): Clica em um elemento.\n",
    "- send_keys(keys): Envia teclas para um elemento.\n",
    "\n",
    "### Manipulação de Formulários\n",
    "- submit(): Submete um formulário.\n",
    "- clear(): Limpa o conteúdo de um campo de texto.\n",
    "\n",
    "### Obtenção de Informações\n",
    "- text: Obtém o texto de um elemento.\n",
    "- get_attribute(attribute_name): Obtém o valor de um atributo de um elemento."
   ]
  },
  {
   "cell_type": "code",
   "execution_count": null,
   "metadata": {},
   "outputs": [],
   "source": [
    "# Exemplo de como fazer login em uma conta fictícia\n",
    "\n",
    "from selenium import webdriver\n",
    "from selenium.webdriver.common.keys import Keys\n",
    "\n",
    "driver_path = 'caminho/para/chromedriver'\n",
    "driver = webdriver.Chrome(executable_path=driver_path)\n",
    "\n",
    "driver.get('https://www.example.com/login')\n",
    "\n",
    "# Localizar e preencher o campo de usuário\n",
    "username = driver.find_element_by_id('username')\n",
    "username.send_keys('meu_usuario')\n",
    "\n",
    "# Localizar e preencher o campo de senha\n",
    "password = driver.find_element_by_id('password')\n",
    "password.send_keys('minha_senha')\n",
    "\n",
    "# Submeter o formulário\n",
    "password.send_keys(Keys.RETURN)\n",
    "\n",
    "# Fechar o navegador\n",
    "driver.quit()\n"
   ]
  },
  {
   "cell_type": "markdown",
   "metadata": {},
   "source": [
    "## Web Scraping com Selenium\n",
    "\n",
    "Selenium também pode ser usado para web scraping, ou seja, a extração de dados de páginas web. Ao contrário de bibliotecas como BeautifulSoup, Selenium permite interagir com páginas que utilizam JavaScript."
   ]
  },
  {
   "cell_type": "code",
   "execution_count": null,
   "metadata": {},
   "outputs": [],
   "source": [
    "# Exemplo de Web Scraping\n",
    "\n",
    "from selenium import webdriver\n",
    "from selenium.webdriver.common.keys import Keys\n",
    "\n",
    "driver_path = 'caminho/para/chromedriver'\n",
    "driver = webdriver.Chrome(executable_path=driver_path)\n",
    "\n",
    "driver.get('https://www.google.com')\n",
    "\n",
    "# Buscar por um termo\n",
    "search_box = driver.find_element_by_name('q')\n",
    "search_box.send_keys('Selenium Python')\n",
    "search_box.send_keys(Keys.RETURN)\n",
    "\n",
    "# Obter os títulos dos resultados\n",
    "titles = driver.find_elements_by_css_selector('h3')\n",
    "for title in titles:\n",
    "    print(title.text)\n",
    "\n",
    "# Fechar o navegador\n",
    "driver.quit()"
   ]
  },
  {
   "cell_type": "markdown",
   "metadata": {},
   "source": [
    "### Exemplos de código"
   ]
  },
  {
   "cell_type": "code",
   "execution_count": null,
   "metadata": {},
   "outputs": [],
   "source": [
    "# Acessando e inserindo texto em elementos\n",
    "\n",
    "element = driver.find_element_by_id('element_id')\n",
    "element.click()\n",
    "\n",
    "input_field = driver.find_element_by_name('input_name')\n",
    "input_field.send_keys('Texto de exemplo')"
   ]
  },
  {
   "cell_type": "code",
   "execution_count": null,
   "metadata": {},
   "outputs": [],
   "source": [
    "# Maniulando elementos de formulário\n",
    "\n",
    "form = driver.find_element_by_id('form_id')\n",
    "form.submit()"
   ]
  },
  {
   "cell_type": "code",
   "execution_count": null,
   "metadata": {},
   "outputs": [],
   "source": [
    "# Extraindo informações de elementos\n",
    "\n",
    "element = driver.find_element_by_css_selector('div.classname')\n",
    "print(element.text)\n",
    "\n",
    "attribute_value = element.get_attribute('href')\n",
    "print(attribute_value)"
   ]
  }
 ],
 "metadata": {
  "kernelspec": {
   "display_name": "Python 3",
   "language": "python",
   "name": "python3"
  },
  "language_info": {
   "codemirror_mode": {
    "name": "ipython",
    "version": 3
   },
   "file_extension": ".py",
   "mimetype": "text/x-python",
   "name": "python",
   "nbconvert_exporter": "python",
   "pygments_lexer": "ipython3",
   "version": "3.10.13"
  }
 },
 "nbformat": 4,
 "nbformat_minor": 2
}
