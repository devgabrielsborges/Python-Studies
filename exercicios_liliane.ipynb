{
 "cells": [
  {
   "cell_type": "markdown",
   "metadata": {},
   "source": [
    "## Questão d)\n",
    "\n",
    "A partir da coordenada superior esquerda de um retângulo, bem como da largura e da altura do mesmo, <br>\n",
    "calcular as coordenadas dos demais vértices do retângulo.<br>\n",
    "Assuma que os lados do retângulo estão alinhados com os eixos cartesianos"
   ]
  },
  {
   "cell_type": "markdown",
   "metadata": {},
   "source": [
    "### Passos:\n",
    "\n",
    "- Obter o ponto do vértice superior esquerdo do retângulo\n",
    "\n",
    "- Obter largura e altura do retângulo\n",
    "\n",
    "- Calcular as coordenadas dos demais vértices\n",
    "\n",
    "- Imprimir as coordenadas na tela"
   ]
  },
  {
   "cell_type": "code",
   "execution_count": 4,
   "metadata": {},
   "outputs": [
    {
     "name": "stdout",
     "output_type": "stream",
     "text": [
      "A partir do ponto inicial [2, 10] e da largura 5 e da altura 8:\n",
      " Os pontos são [[2, 10], [7, 10], [2, 2], [7, 2]]\n"
     ]
    }
   ],
   "source": [
    "# Vamos declarar a função para obter os vértices\n",
    "def obter_vértices(x1, y1, width, height):\n",
    "    # Declarando uma variável para conter uma lista de todos os vértices\n",
    "    # O que está entre '[ ]' é o conteúdo da lista\n",
    "    # No caso estamos criando uma lista de listas, em que cada lista contém as coordenadas de um ponto específico\n",
    "    points = [[x1, y1], [x1 + width, y1], [x1, y1 - height], [x1 + width, y1 - height]]\n",
    "    return f'A partir do ponto inicial {[x1, y1]} e da largura {width} e da altura {height}:\\n Os pontos são {points}'\n",
    "\n",
    "\n",
    "x1 = int(input('Digite o x1: '))\n",
    "y1 = int(input('Digite o y1: '))\n",
    "largura = int(input('Digite o valor da largura: '))\n",
    "altura = int(input('Digite o valor da altura'))\n",
    "\n",
    "print(obter_vértices(x1, y1, largura, altura))\n"
   ]
  }
 ],
 "metadata": {
  "kernelspec": {
   "display_name": "Python 3",
   "language": "python",
   "name": "python3"
  },
  "language_info": {
   "codemirror_mode": {
    "name": "ipython",
    "version": 3
   },
   "file_extension": ".py",
   "mimetype": "text/x-python",
   "name": "python",
   "nbconvert_exporter": "python",
   "pygments_lexer": "ipython3",
   "version": "3.10.13"
  }
 },
 "nbformat": 4,
 "nbformat_minor": 2
}
